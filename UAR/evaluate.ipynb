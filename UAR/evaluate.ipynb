{
 "cells": [
  {
   "cell_type": "code",
   "execution_count": 1,
   "metadata": {
    "tags": []
   },
   "outputs": [
    {
     "name": "stdout",
     "output_type": "stream",
     "text": [
      "Looking in indexes: https://pypi.org/simple, https://artifacts.deez.re/repository/python-research/simple\n",
      "Collecting lxml\n",
      "  Downloading lxml-5.2.2-cp39-cp39-manylinux_2_28_x86_64.whl (5.0 MB)\n",
      "\u001b[2K     \u001b[90m━━━━━━━━━━━━━━━━━━━━━━━━━━━━━━━━━━━━━━━━\u001b[0m \u001b[32m5.0/5.0 MB\u001b[0m \u001b[31m115.2 MB/s\u001b[0m eta \u001b[36m0:00:00\u001b[0m00:01\u001b[0m\n",
      "\u001b[?25hInstalling collected packages: lxml\n",
      "Successfully installed lxml-5.2.2\n",
      "\u001b[33mWARNING: Running pip as the 'root' user can result in broken permissions and conflicting behaviour with the system package manager. It is recommended to use a virtual environment instead: https://pip.pypa.io/warnings/venv\u001b[0m\u001b[33m\n",
      "\u001b[0m\n",
      "\u001b[1m[\u001b[0m\u001b[34;49mnotice\u001b[0m\u001b[1;39;49m]\u001b[0m\u001b[39;49m A new release of pip is available: \u001b[0m\u001b[31;49m23.1.2\u001b[0m\u001b[39;49m -> \u001b[0m\u001b[32;49m24.0\u001b[0m\n",
      "\u001b[1m[\u001b[0m\u001b[34;49mnotice\u001b[0m\u001b[1;39;49m]\u001b[0m\u001b[39;49m To update, run: \u001b[0m\u001b[32;49mpip install --upgrade pip\u001b[0m\n"
     ]
    }
   ],
   "source": [
    "!pip install lxml"
   ]
  },
  {
   "cell_type": "code",
   "execution_count": 115,
   "metadata": {
    "tags": []
   },
   "outputs": [
    {
     "name": "stderr",
     "output_type": "stream",
     "text": [
      "huggingface/tokenizers: The current process just got forked, after parallelism has already been used. Disabling parallelism to avoid deadlocks...\n",
      "To disable this warning, you can either:\n",
      "\t- Avoid using `tokenizers` before the fork if possible\n",
      "\t- Explicitly set the environment variable TOKENIZERS_PARALLELISM=(true | false)\n"
     ]
    },
    {
     "name": "stdout",
     "output_type": "stream",
     "text": [
      "100%|█████████████████████████████████████████| 293/293 [01:17<00:00,  3.77it/s]\n",
      "Total number of plays 293\n",
      "Parsed number of plays 228\n"
     ]
    }
   ],
   "source": [
    "!python parse_xml.py --source_path /data/datasets/drama_gutenberg_no_collections/xmls/ --dest_path /data/datasets/drama_gutenberg_no_collections/full_data.json"
   ]
  },
  {
   "cell_type": "code",
   "execution_count": 69,
   "metadata": {
    "tags": []
   },
   "outputs": [
    {
     "name": "stderr",
     "output_type": "stream",
     "text": [
      "huggingface/tokenizers: The current process just got forked, after parallelism has already been used. Disabling parallelism to avoid deadlocks...\n",
      "To disable this warning, you can either:\n",
      "\t- Avoid using `tokenizers` before the fork if possible\n",
      "\t- Explicitly set the environment variable TOKENIZERS_PARALLELISM=(true | false)\n"
     ]
    },
    {
     "name": "stdout",
     "output_type": "stream",
     "text": [
      "[TOTAL] # remaining plays: 179\n",
      "[TRAIN]\n",
      "# acts: 1507\t # plays: 133\t # unique character: 5392\t avg # speaker in act: 3.6\t total # of quotes: 263270\n",
      "[VALIDATION]\n",
      "# acts: 240\t # plays: 17\t # unique character: 1557\t avg # speaker in act: 6.5\t total # of quotes: 50670\n",
      "[TEST]\n",
      "# acts: 203\t # plays: 19\t # unique character: 1319\t avg # speaker in act: 6.5\t total # of quotes: 41830\n",
      "[TRAIN]\n",
      "# queries: 5392\t avg # target/queries: 4.989614243323442\n",
      "[VALIDATION]\n",
      "# queries: 1557\t avg # target/queries: 8.788053949903661\n",
      "[TEST]\n",
      "# queries: 1319\t avg # target/queries: 8.669446550416982\n"
     ]
    }
   ],
   "source": [
    "!python split_data.py --source_data \"/data/datasets/all_drama_gutenberg/scene_data.json\" --dest_folder \"scene_data/\" --min_num_quotes 16 --max_char_in_segment 20\n"
   ]
  },
  {
   "cell_type": "code",
   "execution_count": 316,
   "metadata": {
    "tags": []
   },
   "outputs": [
    {
     "name": "stderr",
     "output_type": "stream",
     "text": [
      "huggingface/tokenizers: The current process just got forked, after parallelism has already been used. Disabling parallelism to avoid deadlocks...\n",
      "To disable this warning, you can either:\n",
      "\t- Avoid using `tokenizers` before the fork if possible\n",
      "\t- Explicitly set the environment variable TOKENIZERS_PARALLELISM=(true | false)\n"
     ]
    },
    {
     "name": "stdout",
     "output_type": "stream",
     "text": [
      "[TOTAL] # remaining plays: 303\n",
      "[TRAIN]\n",
      "# acts: 226\t # plays: 226\t # unique character: 4109\t avg # speaker in act: 18.2\t total # of quotes: 449407\n",
      "[VALIDATION]\n",
      "# acts: 30\t # plays: 30\t # unique character: 917\t avg # speaker in act: 30.6\t total # of quotes: 63934\n",
      "[TEST]\n",
      "# acts: 31\t # plays: 31\t # unique character: 1214\t avg # speaker in act: 39.2\t total # of quotes: 74738\n",
      "[TRAIN]\n",
      "# queries: 4109\t avg # target/queries: 90.68264784619129\n",
      "[VALIDATION]\n",
      "# queries: 917\t avg # target/queries: 55.05016357688113\n",
      "[TEST]\n",
      "# queries: 1214\t avg # target/queries: 108.52718286655684\n"
     ]
    }
   ],
   "source": [
    "!python split_data.py --source_data \"/data/datasets/all_drama_gutenberg/full_data.json\" --dest_folder \"full_data/\" --min_num_quotes 16\n"
   ]
  },
  {
   "cell_type": "code",
   "execution_count": 26,
   "metadata": {
    "tags": []
   },
   "outputs": [],
   "source": [
    "import sys \n",
    "sys.path.append(\"src/\")\n",
    "from tqdm import tqdm\n",
    "import torch\n",
    "import numpy as np\n",
    "from collections import defaultdict\n",
    "from sklearn.metrics import pairwise_distances\n",
    "from sklearn.metrics import roc_auc_score\n",
    "import json\n",
    "from sentence_transformers import SentenceTransformer\n",
    "from transformers import AutoTokenizer, AutoModel\n",
    "# from src.utilities.metric import ranking\n",
    "from src.models.huggingface_transformer import Transformer"
   ]
  },
  {
   "cell_type": "code",
   "execution_count": 27,
   "metadata": {
    "tags": []
   },
   "outputs": [],
   "source": [
    "def ranking(queries, \n",
    "            targets,\n",
    "            query_authors, \n",
    "            target_authors, \n",
    "            q_indices,\n",
    "            t_indices,\n",
    "            q_play_idx,\n",
    "            t_play_idx,\n",
    "            metric='cosine', \n",
    "):\n",
    "    num_queries = len(query_authors)\n",
    "    ranks = np.zeros((num_queries), dtype=np.float32)\n",
    "    reciprocal_ranks = np.zeros((num_queries), dtype=np.float32)\n",
    "    \n",
    "    distances = pairwise_distances(queries, Y=targets, metric=metric, n_jobs=-1)\n",
    "\n",
    "    auc_scores = []\n",
    "    play_scores = defaultdict(list)\n",
    "    for i in range(num_queries):\n",
    "        # Get the right targets for current query\n",
    "        target_index = q_indices[i]\n",
    "        val_targets = np.where(t_indices == target_index)[0]\n",
    "        dist = distances[i,val_targets]\n",
    "        labels = [0] * len(val_targets)\n",
    "        idx = np.where(target_authors[val_targets] == query_authors[i])[0].item()\n",
    "        labels[idx] = 1\n",
    "        \n",
    "        play_idx = q_play_idx[i] \n",
    "        play_scores[play_idx].append(roc_auc_score(labels, 1-dist))\n",
    "        # sorted_indices = np.argsort(dist)\n",
    "        # sorted_target_authors = target_authors[sorted_indices]\n",
    "        # ranks[i] = np.where(sorted_target_authors ==\n",
    "        #                     query_authors[i])[0].item()\n",
    "        # reciprocal_ranks[i] = 1.0 / float(ranks[i] + 1)\n",
    "    scores_per_play = {k : np.mean(v) for k,v in play_scores.items()}\n",
    "    return_dict = {\n",
    "        \"AUC_mean\" : np.mean(list(scores_per_play.values())),\n",
    "        \"AUC_std\" : np.std(list(scores_per_play.values())),\n",
    "        # 'R@2': np.sum(np.less_equal(ranks, 2)) / np.float32(num_queries),\n",
    "        # 'R@8': np.sum(np.less_equal(ranks, 8)) / np.float32(num_queries),\n",
    "        # 'R@16': np.sum(np.less_equal(ranks, 16)) / np.float32(num_queries),\n",
    "        # 'R@32': np.sum(np.less_equal(ranks, 32)) / np.float32(num_queries),\n",
    "        # 'R@64': np.sum(np.less_equal(ranks, 64)) / np.float32(num_queries),\n",
    "        # 'MRR': np.mean(reciprocal_ranks)\n",
    "    }\n",
    "\n",
    "    return return_dict, scores_per_play"
   ]
  },
  {
   "cell_type": "code",
   "execution_count": 4,
   "metadata": {
    "tags": []
   },
   "outputs": [
    {
     "data": {
      "application/vnd.jupyter.widget-view+json": {
       "model_id": "17d034c9c10044a7bceacd4b6e650991",
       "version_major": 2,
       "version_minor": 0
      },
      "text/plain": [
       "tokenizer_config.json:   0%|          | 0.00/363 [00:00<?, ?B/s]"
      ]
     },
     "metadata": {},
     "output_type": "display_data"
    },
    {
     "data": {
      "application/vnd.jupyter.widget-view+json": {
       "model_id": "435c0136b17c4cd9b767ee8f06487f3a",
       "version_major": 2,
       "version_minor": 0
      },
      "text/plain": [
       "vocab.txt:   0%|          | 0.00/232k [00:00<?, ?B/s]"
      ]
     },
     "metadata": {},
     "output_type": "display_data"
    },
    {
     "data": {
      "application/vnd.jupyter.widget-view+json": {
       "model_id": "4229324213c6463eb14c03bb172fa493",
       "version_major": 2,
       "version_minor": 0
      },
      "text/plain": [
       "tokenizer.json:   0%|          | 0.00/466k [00:00<?, ?B/s]"
      ]
     },
     "metadata": {},
     "output_type": "display_data"
    },
    {
     "data": {
      "application/vnd.jupyter.widget-view+json": {
       "model_id": "0ba424d67fd34aa6a98e4a51d9319bca",
       "version_major": 2,
       "version_minor": 0
      },
      "text/plain": [
       "special_tokens_map.json:   0%|          | 0.00/239 [00:00<?, ?B/s]"
      ]
     },
     "metadata": {},
     "output_type": "display_data"
    }
   ],
   "source": [
    "tokenizer = AutoTokenizer.from_pretrained(\"sentence-transformers/all-mpnet-base-v2\")"
   ]
  },
  {
   "cell_type": "code",
   "execution_count": 28,
   "metadata": {
    "tags": []
   },
   "outputs": [],
   "source": [
    "@torch.no_grad()\n",
    "def get_auc(queries, targets) : \n",
    "    model = SentenceTransformer(\"all-mpnet-base-v2\", device=\"cuda:0\")\n",
    "    model.max_seq_length = 64\n",
    "    query_embeddings = []\n",
    "    q_authors = []\n",
    "    q_act_index = []\n",
    "    q_play_idx = []\n",
    "    for tq in tqdm(queries) : \n",
    "        query_embeddings.append(model.encode(list(tq[\"data\"].values())[0], convert_to_tensor=True, device=\"cuda:0\").mean(0).cpu().unsqueeze(0))\n",
    "        q_authors.append(list(tq[\"data\"].keys())[0])\n",
    "        q_act_index.append(tq[\"act_index\"])\n",
    "        q_play_idx.append(tq[\"play_index\"])\n",
    "\n",
    "    query_embeddings = torch.cat(query_embeddings).numpy()\n",
    "    \n",
    "    target_embeddings = []\n",
    "    t_authors = []\n",
    "    t_act_index = []\n",
    "    t_play_idx = []\n",
    "    for tt in tqdm(targets) : \n",
    "        target_embeddings.append(model.encode(list(tt[\"data\"].values())[0], convert_to_tensor=True, device=\"cuda:0\").mean(0).cpu().unsqueeze(0))\n",
    "        t_authors.append(list(tt[\"data\"].keys())[0])\n",
    "        t_act_index.append(tt[\"act_index\"])\n",
    "        t_play_idx.append(tt[\"play_index\"])\n",
    "    target_embeddings = torch.cat(target_embeddings).numpy()\n",
    "    \n",
    "    return ranking(query_embeddings, target_embeddings, np.array(q_authors), np.array(t_authors), np.array(q_act_index), np.array(t_act_index), np.array(q_play_idx),  np.array(t_play_idx))\n",
    "\n",
    "device = torch.device(\"cuda:0\")\n",
    "\n",
    "def tokenize(tokenizer, quotes, batch_first = False, max_length=64) : \n",
    "    tokens = tokenizer(quotes, max_length = max_length, return_tensors = \"pt\", truncation=True, padding=\"max_length\")\n",
    "\n",
    "    if not batch_first:  \n",
    "        tokens[\"input_ids\"] = tokens[\"input_ids\"].reshape(1, -1, max_length)\n",
    "        tokens[\"attention_mask\"] = tokens[\"attention_mask\"].reshape(1, -1, max_length)\n",
    "    else : \n",
    "        tokens[\"input_ids\"] = tokens[\"input_ids\"].reshape(-1, 1, max_length)\n",
    "        tokens[\"attention_mask\"] = tokens[\"attention_mask\"].reshape(-1, 1, max_length)\n",
    "\n",
    "    return tokens\n",
    "\n",
    "@torch.no_grad()\n",
    "def get_luar_auc(queries, targets, tokenizer, model ) : \n",
    "    \n",
    "    query_embeddings = []\n",
    "    q_authors = []\n",
    "    q_act_index = []\n",
    "    q_play_idx = []\n",
    "\n",
    "    for tq in tqdm(test_queries) : \n",
    "        tokens = tokenize(tokenizer, list(tq[\"data\"].values())[0], batch_first=False, max_length=64)\n",
    "        query_embeddings.append(model(**tokens.to(device)).cpu())\n",
    "        q_authors.append(list(tq[\"data\"].keys())[0])\n",
    "        q_act_index.append(tq[\"act_index\"])\n",
    "        q_play_idx.append(tq[\"play_index\"])\n",
    "\n",
    "    query_embeddings = torch.cat(query_embeddings).numpy()\n",
    "    \n",
    "    target_embeddings = []\n",
    "    t_authors = []\n",
    "    t_act_index = []\n",
    "    t_play_idx = []\n",
    "    for tt in tqdm(test_targets) : \n",
    "        tokens = tokenize(tokenizer, list(tt[\"data\"].values())[0], batch_first=False, max_length=64)\n",
    "        target_embeddings.append(model(**tokens.to(device)).cpu())\n",
    "        t_authors.append(list(tt[\"data\"].keys())[0])\n",
    "        t_act_index.append(tt[\"act_index\"])\n",
    "        t_play_idx.append(tt[\"play_index\"])\n",
    "\n",
    "    target_embeddings = torch.cat(target_embeddings).numpy()\n",
    "    \n",
    "    return ranking(query_embeddings, target_embeddings, np.array(q_authors), np.array(t_authors), np.array(q_act_index), np.array(t_act_index), np.array(q_play_idx),  np.array(t_play_idx))\n",
    "\n"
   ]
  },
  {
   "cell_type": "markdown",
   "metadata": {},
   "source": [
    "## Scenes"
   ]
  },
  {
   "cell_type": "code",
   "execution_count": 29,
   "metadata": {
    "tags": []
   },
   "outputs": [],
   "source": [
    "\n",
    "import json\n",
    "test_queries = json.load(open(\"scene_data/test_queries.json\"))\n",
    "test_targets = json.load(open(\"scene_data/test_targets.json\"))\n",
    "play_index = json.load(open(\"scene_data/test_play_index.json\"))\n",
    "# val_queries = json.load(open(\"scene_data/val_queries.json\"))\n",
    "# val_targets = json.load(open(\"scene_data/val_targets.json\"))"
   ]
  },
  {
   "cell_type": "markdown",
   "metadata": {
    "jp-MarkdownHeadingCollapsed": true,
    "tags": []
   },
   "source": [
    "### SBERT"
   ]
  },
  {
   "cell_type": "code",
   "execution_count": 323,
   "metadata": {
    "tags": []
   },
   "outputs": [
    {
     "name": "stderr",
     "output_type": "stream",
     "text": [
      "100%|██████████████████████████████████████████████████████████████████████████████████████████████████████████████████████████████████████████████████████████████████████████| 1319/1319 [00:42<00:00, 31.03it/s]\n",
      "100%|██████████████████████████████████████████████████████████████████████████████████████████████████████████████████████████████████████████████████████████████████████████| 1319/1319 [00:45<00:00, 29.02it/s]\n"
     ]
    },
    {
     "name": "stdout",
     "output_type": "stream",
     "text": [
      "SBERT: {'AUC_mean': 0.7200616193930536, 'AUC_std': 0.049477914452999344}\n"
     ]
    }
   ],
   "source": [
    "auc,_ = get_auc(test_queries, test_targets)\n",
    "print(f\"SBERT: {auc}\")"
   ]
  },
  {
   "cell_type": "markdown",
   "metadata": {
    "jp-MarkdownHeadingCollapsed": true,
    "tags": []
   },
   "source": [
    "### UAR"
   ]
  },
  {
   "cell_type": "code",
   "execution_count": 324,
   "metadata": {
    "tags": []
   },
   "outputs": [
    {
     "name": "stderr",
     "output_type": "stream",
     "text": [
      "100%|██████████████████████████████████████████████████████████████████████████████████████████████████████████████████████████████████████████████████████████████████████████| 1319/1319 [00:41<00:00, 32.14it/s]\n",
      "100%|██████████████████████████████████████████████████████████████████████████████████████████████████████████████████████████████████████████████████████████████████████████| 1319/1319 [00:42<00:00, 30.76it/s]\n"
     ]
    }
   ],
   "source": [
    "tokenizer = AutoTokenizer.from_pretrained(\"rrivera1849/LUAR-MUD\", trust_remote_code=True)\n",
    "model = AutoModel.from_pretrained(\"rrivera1849/LUAR-MUD\", trust_remote_code=True).to(device)\n",
    "model.eval()\n",
    "auc,_ = get_luar_auc(test_queries, test_targets, tokenizer, model)"
   ]
  },
  {
   "cell_type": "code",
   "execution_count": 325,
   "metadata": {
    "tags": []
   },
   "outputs": [
    {
     "name": "stdout",
     "output_type": "stream",
     "text": [
      "UAR: {'AUC_mean': 0.686006963435264, 'AUC_std': 0.07072840989813857}\n"
     ]
    }
   ],
   "source": [
    "print(f\"UAR: {auc}\")"
   ]
  },
  {
   "cell_type": "markdown",
   "metadata": {
    "jp-MarkdownHeadingCollapsed": true,
    "tags": []
   },
   "source": [
    "### LAR Scene\n"
   ]
  },
  {
   "cell_type": "code",
   "execution_count": 31,
   "metadata": {
    "tags": []
   },
   "outputs": [
    {
     "name": "stderr",
     "output_type": "stream",
     "text": [
      "A new version of the following files was downloaded from https://huggingface.co/gasmichel/UAR_scene:\n",
      "- config.py\n",
      ". Make sure to double-check they do not contain any added malicious code. To avoid downloading new versions of the code file, you can pin a revision.\n"
     ]
    },
    {
     "data": {
      "application/vnd.jupyter.widget-view+json": {
       "model_id": "df8a2153d2d9438d8dee16a671fc3ba5",
       "version_major": 2,
       "version_minor": 0
      },
      "text/plain": [
       "model.py:   0%|          | 0.00/3.77k [00:00<?, ?B/s]"
      ]
     },
     "metadata": {},
     "output_type": "display_data"
    },
    {
     "name": "stderr",
     "output_type": "stream",
     "text": [
      "A new version of the following files was downloaded from https://huggingface.co/gasmichel/UAR_scene:\n",
      "- model.py\n",
      ". Make sure to double-check they do not contain any added malicious code. To avoid downloading new versions of the code file, you can pin a revision.\n"
     ]
    }
   ],
   "source": [
    "tokenizer = AutoTokenizer.from_pretrained(\"gasmichel/UAR_scene\", trust_remote_code=True)\n",
    "model = AutoModel.from_pretrained(\"gasmichel/UAR_scene\", trust_remote_code=True)\n",
    "model.eval() \n",
    "model=model.to(device)"
   ]
  },
  {
   "cell_type": "code",
   "execution_count": 32,
   "metadata": {
    "tags": []
   },
   "outputs": [
    {
     "name": "stderr",
     "output_type": "stream",
     "text": [
      "100%|██████████████████████████████████████████████████████████████████████████████████████████████████████████████████████████████████████████████████████████████████████████| 1319/1319 [00:17<00:00, 76.62it/s]\n",
      "100%|██████████████████████████████████████████████████████████████████████████████████████████████████████████████████████████████████████████████████████████████████████████| 1319/1319 [00:17<00:00, 76.86it/s]\n"
     ]
    }
   ],
   "source": [
    "\n",
    "auc, scores_per_play = get_luar_auc(test_queries, test_targets, tokenizer, model)"
   ]
  },
  {
   "cell_type": "code",
   "execution_count": 33,
   "metadata": {
    "tags": []
   },
   "outputs": [
    {
     "name": "stdout",
     "output_type": "stream",
     "text": [
      "LAR-scene: {'AUC_mean': np.float64(0.8232535514803928), 'AUC_std': np.float64(0.060217817506079796)}\n"
     ]
    }
   ],
   "source": [
    "print(f\"LAR-scene: {auc}\")"
   ]
  },
  {
   "cell_type": "code",
   "execution_count": 352,
   "metadata": {
    "tags": []
   },
   "outputs": [],
   "source": [
    "d = json.load(open(\"/data/datasets/all_drama_gutenberg/scene_data.json\"))"
   ]
  },
  {
   "cell_type": "code",
   "execution_count": 357,
   "metadata": {
    "tags": []
   },
   "outputs": [
    {
     "name": "stdout",
     "output_type": "stream",
     "text": [
      "Justice & John Galsworthy &  95.6\\\\\n",
      "The Alchemist & Ben Jonson &  91.8\\\\\n",
      "Hamlet & William Shakespeare &  86.5\\\\\n",
      "Plays : Third Series & John Galsworthy &  86.3\\\\\n",
      "The works of John Dryden, $c now first collected in eighteen volumes. $p Volume 07 & John Dryden &  85.2\\\\\n",
      "The Life of Timon of Athens & William Shakespeare &  84.2\\\\\n",
      "King Henry the Fifth\tArranged for Representation at the Princess's Theatre & William Shakespeare &  83.7\\\\\n",
      "Night Must Fall : a Play in Three Acts & Emlyn Williams &  83.7\\\\\n",
      "The Spanish Tragedy & Thomas Kyd &  83.2\\\\\n",
      "The works of John Dryden, $c now first collected in eighteen volumes. $p Volume 06 & John Dryden &  83.0\\\\\n",
      "The Scarlet Stigma: A Drama in Four Acts & Nathaniel Hawthorne &  82.4\\\\\n",
      "King John & William Shakespeare &  81.8\\\\\n",
      "The Works of Charles and Mary Lamb — Volume 4\tPoems and Plays & Mary Lamb &  80.8\\\\\n",
      "The Scornful Lady & John Fletcher &  80.8\\\\\n",
      "Married Life\tA Comedy, in Three Acts & John Baldwin Buckstone &  80.0\\\\\n",
      "The Flutter of the Goldleaf; and Other Plays & Frederick Peterson &  77.5\\\\\n",
      "Single Life\tA Comedy, in Three Acts & John Baldwin Buckstone &  75.9\\\\\n",
      "The Countess Cathleen & W. B. (William Butler) Yeats &  75.6\\\\\n",
      "De Turkey and De Law\tA Comedy in Three Acts & Zora Neale Hurston &  66.4\\\\\n"
     ]
    }
   ],
   "source": [
    "d = json.load(open(\"/data/datasets/all_drama_gutenberg/scene_data.json\"))\n",
    "sp  = sorted(scores_per_play.items(), key=lambda x:x[1], reverse=True)\n",
    "rp = {v:k for k,v in play_index.items()}\n",
    "for idx, score in sp : \n",
    "\n",
    "    try : \n",
    "        play = rp[idx]\n",
    "        author = d[play][\"metadata\"][\"author\"]\n",
    "        print(f\"{play} & {author} & {score * 100 : 0.1f}\\\\\\\\\")\n",
    "    except : \n",
    "        pass"
   ]
  },
  {
   "cell_type": "markdown",
   "metadata": {
    "tags": []
   },
   "source": [
    "## Play"
   ]
  },
  {
   "cell_type": "code",
   "execution_count": 34,
   "metadata": {
    "tags": []
   },
   "outputs": [],
   "source": [
    "\n",
    "import json\n",
    "test_queries = json.load(open(\"full_data/test_queries.json\"))\n",
    "test_targets = json.load(open(\"full_data/test_targets.json\"))\n",
    "play_index = json.load(open(\"full_data/test_play_index.json\"))\n"
   ]
  },
  {
   "cell_type": "markdown",
   "metadata": {
    "jp-MarkdownHeadingCollapsed": true,
    "tags": []
   },
   "source": [
    "### SBERT"
   ]
  },
  {
   "cell_type": "code",
   "execution_count": 7,
   "metadata": {
    "tags": []
   },
   "outputs": [
    {
     "data": {
      "application/vnd.jupyter.widget-view+json": {
       "model_id": "0ab83f9473ab450986d569e51b2cb5d4",
       "version_major": 2,
       "version_minor": 0
      },
      "text/plain": [
       "modules.json:   0%|          | 0.00/349 [00:00<?, ?B/s]"
      ]
     },
     "metadata": {},
     "output_type": "display_data"
    },
    {
     "data": {
      "application/vnd.jupyter.widget-view+json": {
       "model_id": "22159192ec604891a8160a49d3c0080a",
       "version_major": 2,
       "version_minor": 0
      },
      "text/plain": [
       "config_sentence_transformers.json:   0%|          | 0.00/116 [00:00<?, ?B/s]"
      ]
     },
     "metadata": {},
     "output_type": "display_data"
    },
    {
     "data": {
      "application/vnd.jupyter.widget-view+json": {
       "model_id": "28d402bac3744c3cb26c045ba4babb07",
       "version_major": 2,
       "version_minor": 0
      },
      "text/plain": [
       "README.md:   0%|          | 0.00/10.6k [00:00<?, ?B/s]"
      ]
     },
     "metadata": {},
     "output_type": "display_data"
    },
    {
     "data": {
      "application/vnd.jupyter.widget-view+json": {
       "model_id": "c240f8e57d8942b0a61e72c339bc2eee",
       "version_major": 2,
       "version_minor": 0
      },
      "text/plain": [
       "sentence_bert_config.json:   0%|          | 0.00/53.0 [00:00<?, ?B/s]"
      ]
     },
     "metadata": {},
     "output_type": "display_data"
    },
    {
     "name": "stderr",
     "output_type": "stream",
     "text": [
      "/usr/local/lib/python3.9/site-packages/huggingface_hub/file_download.py:1132: FutureWarning: `resume_download` is deprecated and will be removed in version 1.0.0. Downloads always resume when possible. If you want to force a new download, use `force_download=True`.\n",
      "  warnings.warn(\n"
     ]
    },
    {
     "data": {
      "application/vnd.jupyter.widget-view+json": {
       "model_id": "c6a57d5bc1d7420db137494b937fa7c8",
       "version_major": 2,
       "version_minor": 0
      },
      "text/plain": [
       "config.json:   0%|          | 0.00/571 [00:00<?, ?B/s]"
      ]
     },
     "metadata": {},
     "output_type": "display_data"
    },
    {
     "data": {
      "application/vnd.jupyter.widget-view+json": {
       "model_id": "4d6b8faaf0404aacada7cbb376248443",
       "version_major": 2,
       "version_minor": 0
      },
      "text/plain": [
       "model.safetensors:   0%|          | 0.00/438M [00:00<?, ?B/s]"
      ]
     },
     "metadata": {},
     "output_type": "display_data"
    },
    {
     "data": {
      "application/vnd.jupyter.widget-view+json": {
       "model_id": "b64a0322a27d451b8d37032229731c9f",
       "version_major": 2,
       "version_minor": 0
      },
      "text/plain": [
       "1_Pooling/config.json:   0%|          | 0.00/190 [00:00<?, ?B/s]"
      ]
     },
     "metadata": {},
     "output_type": "display_data"
    },
    {
     "name": "stderr",
     "output_type": "stream",
     "text": [
      "100%|██████████████████████████████████████████████████████████████████████████████████████████████████████████████████████████████████████████████████████████████████████████| 1214/1214 [00:39<00:00, 31.04it/s]\n",
      "100%|██████████████████████████████████████████████████████████████████████████████████████████████████████████████████████████████████████████████████████████████████████████| 1214/1214 [00:39<00:00, 31.02it/s]\n"
     ]
    },
    {
     "name": "stdout",
     "output_type": "stream",
     "text": [
      "SBERT: {'AUC_mean': 0.7880883961207349, 'AUC_std': 0.10085498993692368}\n"
     ]
    }
   ],
   "source": [
    "auc,_ = get_auc(test_queries, test_targets)\n",
    "print(f\"SBERT: {auc}\")"
   ]
  },
  {
   "cell_type": "markdown",
   "metadata": {
    "jp-MarkdownHeadingCollapsed": true,
    "tags": []
   },
   "source": [
    "### UAR"
   ]
  },
  {
   "cell_type": "code",
   "execution_count": 8,
   "metadata": {
    "tags": []
   },
   "outputs": [
    {
     "data": {
      "application/vnd.jupyter.widget-view+json": {
       "model_id": "7b25db2913ee43588731f3a4b25ad131",
       "version_major": 2,
       "version_minor": 0
      },
      "text/plain": [
       "tokenizer_config.json:   0%|          | 0.00/1.40k [00:00<?, ?B/s]"
      ]
     },
     "metadata": {},
     "output_type": "display_data"
    },
    {
     "data": {
      "application/vnd.jupyter.widget-view+json": {
       "model_id": "ca2687ebb5334fe6835f29adeb275730",
       "version_major": 2,
       "version_minor": 0
      },
      "text/plain": [
       "vocab.json:   0%|          | 0.00/798k [00:00<?, ?B/s]"
      ]
     },
     "metadata": {},
     "output_type": "display_data"
    },
    {
     "data": {
      "application/vnd.jupyter.widget-view+json": {
       "model_id": "f4d9e74bedd449449e29e742b96e136d",
       "version_major": 2,
       "version_minor": 0
      },
      "text/plain": [
       "merges.txt:   0%|          | 0.00/456k [00:00<?, ?B/s]"
      ]
     },
     "metadata": {},
     "output_type": "display_data"
    },
    {
     "data": {
      "application/vnd.jupyter.widget-view+json": {
       "model_id": "1be5f869da2a4f96bc76a4979c2e2b9d",
       "version_major": 2,
       "version_minor": 0
      },
      "text/plain": [
       "tokenizer.json:   0%|          | 0.00/2.11M [00:00<?, ?B/s]"
      ]
     },
     "metadata": {},
     "output_type": "display_data"
    },
    {
     "data": {
      "application/vnd.jupyter.widget-view+json": {
       "model_id": "5c7df3ae5aae481480c48303ada7ff24",
       "version_major": 2,
       "version_minor": 0
      },
      "text/plain": [
       "special_tokens_map.json:   0%|          | 0.00/280 [00:00<?, ?B/s]"
      ]
     },
     "metadata": {},
     "output_type": "display_data"
    },
    {
     "data": {
      "application/vnd.jupyter.widget-view+json": {
       "model_id": "c02cd900c7624285a30a8b058e4d9342",
       "version_major": 2,
       "version_minor": 0
      },
      "text/plain": [
       "config.json:   0%|          | 0.00/335 [00:00<?, ?B/s]"
      ]
     },
     "metadata": {},
     "output_type": "display_data"
    },
    {
     "data": {
      "application/vnd.jupyter.widget-view+json": {
       "model_id": "a2122d723fee44e3b59e2c8370e6c6ea",
       "version_major": 2,
       "version_minor": 0
      },
      "text/plain": [
       "config.py:   0%|          | 0.00/535 [00:00<?, ?B/s]"
      ]
     },
     "metadata": {},
     "output_type": "display_data"
    },
    {
     "name": "stderr",
     "output_type": "stream",
     "text": [
      "A new version of the following files was downloaded from https://huggingface.co/rrivera1849/LUAR-MUD:\n",
      "- config.py\n",
      ". Make sure to double-check they do not contain any added malicious code. To avoid downloading new versions of the code file, you can pin a revision.\n"
     ]
    },
    {
     "data": {
      "application/vnd.jupyter.widget-view+json": {
       "model_id": "9a482d3da66e4e1192d2cdc61ae6d91d",
       "version_major": 2,
       "version_minor": 0
      },
      "text/plain": [
       "model.py:   0%|          | 0.00/8.33k [00:00<?, ?B/s]"
      ]
     },
     "metadata": {},
     "output_type": "display_data"
    },
    {
     "name": "stderr",
     "output_type": "stream",
     "text": [
      "A new version of the following files was downloaded from https://huggingface.co/rrivera1849/LUAR-MUD:\n",
      "- model.py\n",
      ". Make sure to double-check they do not contain any added malicious code. To avoid downloading new versions of the code file, you can pin a revision.\n"
     ]
    },
    {
     "data": {
      "application/vnd.jupyter.widget-view+json": {
       "model_id": "a769337d3d3646bc9594a0d7c3d634f4",
       "version_major": 2,
       "version_minor": 0
      },
      "text/plain": [
       "model.safetensors:   0%|          | 0.00/330M [00:00<?, ?B/s]"
      ]
     },
     "metadata": {},
     "output_type": "display_data"
    },
    {
     "data": {
      "application/vnd.jupyter.widget-view+json": {
       "model_id": "c0fc6f69b8924ddc95e794a6890b7df9",
       "version_major": 2,
       "version_minor": 0
      },
      "text/plain": [
       "config.json:   0%|          | 0.00/718 [00:00<?, ?B/s]"
      ]
     },
     "metadata": {},
     "output_type": "display_data"
    },
    {
     "data": {
      "application/vnd.jupyter.widget-view+json": {
       "model_id": "65511111500543219f1d248599e6a27f",
       "version_major": 2,
       "version_minor": 0
      },
      "text/plain": [
       "model.safetensors:   0%|          | 0.00/328M [00:00<?, ?B/s]"
      ]
     },
     "metadata": {},
     "output_type": "display_data"
    },
    {
     "name": "stderr",
     "output_type": "stream",
     "text": [
      "100%|██████████████████████████████████████████████████████████████████████████████████████████████████████████████████████████████████████████████████████████████████████████| 1214/1214 [00:25<00:00, 47.07it/s]\n",
      "100%|██████████████████████████████████████████████████████████████████████████████████████████████████████████████████████████████████████████████████████████████████████████| 1214/1214 [00:26<00:00, 46.41it/s]\n"
     ]
    },
    {
     "name": "stdout",
     "output_type": "stream",
     "text": [
      "UAR: {'AUC_mean': 0.7445067504593709, 'AUC_std': 0.10817062527677136}\n"
     ]
    }
   ],
   "source": [
    "tokenizer = AutoTokenizer.from_pretrained(\"rrivera1849/LUAR-MUD\", trust_remote_code=True)\n",
    "model = AutoModel.from_pretrained(\"rrivera1849/LUAR-MUD\", trust_remote_code=True).to(device)\n",
    "model.eval()\n",
    "auc,_ = get_luar_auc(test_queries, test_targets, tokenizer, model)\n",
    "print(f\"UAR: {auc}\")"
   ]
  },
  {
   "cell_type": "markdown",
   "metadata": {},
   "source": [
    "### LAR - Play"
   ]
  },
  {
   "cell_type": "code",
   "execution_count": 36,
   "metadata": {
    "tags": []
   },
   "outputs": [
    {
     "data": {
      "application/vnd.jupyter.widget-view+json": {
       "model_id": "82b8ce4ec6e840929a2e03d2722161f6",
       "version_major": 2,
       "version_minor": 0
      },
      "text/plain": [
       "model.safetensors:   6%|6         | 21.0M/330M [00:00<?, ?B/s]"
      ]
     },
     "metadata": {},
     "output_type": "display_data"
    }
   ],
   "source": [
    "tokenizer = AutoTokenizer.from_pretrained(\"gasmichel/UAR_play\", trust_remote_code=True)\n",
    "model = AutoModel.from_pretrained(\"gasmichel/UAR_play\", trust_remote_code=True)\n",
    "model.eval() \n",
    "model=model.to(device)"
   ]
  },
  {
   "cell_type": "code",
   "execution_count": 37,
   "metadata": {
    "tags": []
   },
   "outputs": [
    {
     "name": "stderr",
     "output_type": "stream",
     "text": [
      "100%|██████████████████████████████████████████████████████████████████████████████████████████████████████████████████████████████████████████████████████████████████████████| 1214/1214 [00:26<00:00, 46.40it/s]\n",
      "100%|██████████████████████████████████████████████████████████████████████████████████████████████████████████████████████████████████████████████████████████████████████████| 1214/1214 [00:28<00:00, 41.96it/s]\n"
     ]
    }
   ],
   "source": [
    "auc, scores_per_play = get_luar_auc(test_queries, test_targets, tokenizer, model)"
   ]
  },
  {
   "cell_type": "code",
   "execution_count": 38,
   "metadata": {
    "tags": []
   },
   "outputs": [
    {
     "name": "stdout",
     "output_type": "stream",
     "text": [
      "LAR-play: {'AUC_mean': np.float64(0.8414877987109732), 'AUC_std': np.float64(0.08849851536808165)}\n"
     ]
    }
   ],
   "source": [
    "print(f\"LAR-play: {auc}\")"
   ]
  },
  {
   "cell_type": "code",
   "execution_count": 13,
   "metadata": {
    "tags": []
   },
   "outputs": [
    {
     "name": "stdout",
     "output_type": "stream",
     "text": [
      "Bride Roses & William Dean Howells &  100.0\\\\\n",
      "Fanny's First Play & Bernard Shaw &  100.0\\\\\n",
      "Five Little Plays & Alfred Sutro &  98.6\\\\\n",
      "John Bull's Other Island & Bernard Shaw &  95.4\\\\\n",
      "Mrs. Dot\tA Farce & W. Somerset (William Somerset) Maugham &  94.5\\\\\n",
      "The Earl of Essex: A Tragedy, in Five Acts & Henry Jones &  94.4\\\\\n",
      "The Way of the World & William Congreve &  92.7\\\\\n",
      "Plays : Fifth Series & John Galsworthy &  92.5\\\\\n",
      "Representative Plays by American Dramatists: 1856-1911: The New York Idea & Langdon Elwyn Mitchell &  91.9\\\\\n",
      "Plays: Lady Frederick, The Explorer, A Man of Honour & W. Somerset (William Somerset) Maugham &  90.3\\\\\n",
      "Great Catherine & Bernard Shaw &  89.3\\\\\n",
      "Hypolympia\tOr, The Gods in the Island, an Ironic Fantasy & Edmund Gosse &  87.1\\\\\n",
      "The works of John Dryden, $c now first collected in eighteen volumes. $p Volume 06 & John Dryden &  87.0\\\\\n",
      "The Grecian Daughter & Arthur Murphy &  85.5\\\\\n",
      "The Works of Lord Byron. Vol. 5\tPoetry & ? ? &  85.2\\\\\n",
      "Dramatic Technique & George Pierce Baker &  81.6\\\\\n",
      "Lyre and Lancet: A Story in Scenes & F. Anstey &  80.2\\\\\n",
      "Beaumont and Fletcher's Works, Vol. 5 & Francis Beaumont &  79.0\\\\\n",
      "King Henry VI, Part 3 & William Shakespeare &  78.1\\\\\n",
      "Plays and Lyrics & Cale Young Rice &  78.0\\\\\n",
      "The Easiest Way\tRepresentative Plays by American Dramatists: 1856-1911 & Eugene Walter &  77.6\\\\\n",
      "Charles Di Tocca: A Tragedy & Cale Young Rice &  77.3\\\\\n",
      "The Comedies of Terence\tLiterally Translated into English Prose, with Notes & ? ? &  77.2\\\\\n",
      "St. Patrick's day, or, the scheming lieutenant : a farce in one act & Richard Brinsley Sheridan &  76.7\\\\\n",
      "Deirdre of the Sorrows & J. M. (John Millington) Synge &  76.3\\\\\n",
      "Ambrose Gwinett\tor, a sea-side story : a melo-drama, in three acts & Douglas William Jerrold &  75.8\\\\\n",
      "Henry V & William Shakespeare &  75.3\\\\\n",
      "Box and Cox: A Romance of Real Life in One Act. & John Maddison Morton &  75.0\\\\\n",
      "The Recruiting Officer & George Farquhar &  74.7\\\\\n",
      "Yolanda of Cyprus & Cale Young Rice &  74.3\\\\\n",
      "Mr. Punch's Scottish Humour &  &  67.1\\\\\n"
     ]
    }
   ],
   "source": [
    "d = json.load(open(\"/data/datasets/all_drama_gutenberg/full_data.json\"))\n",
    "sp  = sorted(scores_per_play.items(), key=lambda x:x[1], reverse=True)\n",
    "rp = {v:k for k,v in play_index.items()}\n",
    "for idx, score in sp : \n",
    "\n",
    "    try : \n",
    "        play = rp[idx]\n",
    "        author = d[play][\"metadata\"][\"author\"]\n",
    "        print(f\"{play} & {author} & {score * 100 : 0.1f}\\\\\\\\\")\n",
    "    except : \n",
    "        pass"
   ]
  },
  {
   "cell_type": "code",
   "execution_count": null,
   "metadata": {},
   "outputs": [],
   "source": []
  },
  {
   "cell_type": "code",
   "execution_count": null,
   "metadata": {},
   "outputs": [],
   "source": []
  },
  {
   "cell_type": "code",
   "execution_count": null,
   "metadata": {},
   "outputs": [],
   "source": []
  },
  {
   "cell_type": "code",
   "execution_count": null,
   "metadata": {},
   "outputs": [],
   "source": []
  },
  {
   "cell_type": "code",
   "execution_count": null,
   "metadata": {},
   "outputs": [],
   "source": []
  },
  {
   "cell_type": "code",
   "execution_count": null,
   "metadata": {},
   "outputs": [],
   "source": []
  },
  {
   "cell_type": "code",
   "execution_count": null,
   "metadata": {},
   "outputs": [],
   "source": []
  },
  {
   "cell_type": "code",
   "execution_count": null,
   "metadata": {},
   "outputs": [],
   "source": []
  },
  {
   "cell_type": "code",
   "execution_count": null,
   "metadata": {},
   "outputs": [],
   "source": []
  },
  {
   "cell_type": "code",
   "execution_count": null,
   "metadata": {},
   "outputs": [],
   "source": []
  },
  {
   "cell_type": "code",
   "execution_count": null,
   "metadata": {},
   "outputs": [],
   "source": []
  },
  {
   "cell_type": "code",
   "execution_count": null,
   "metadata": {},
   "outputs": [],
   "source": []
  },
  {
   "cell_type": "code",
   "execution_count": null,
   "metadata": {},
   "outputs": [],
   "source": []
  },
  {
   "cell_type": "code",
   "execution_count": null,
   "metadata": {},
   "outputs": [],
   "source": []
  },
  {
   "cell_type": "code",
   "execution_count": null,
   "metadata": {},
   "outputs": [],
   "source": []
  }
 ],
 "metadata": {
  "kernelspec": {
   "display_name": "Python 3 (ipykernel)",
   "language": "python",
   "name": "python3"
  },
  "language_info": {
   "codemirror_mode": {
    "name": "ipython",
    "version": 3
   },
   "file_extension": ".py",
   "mimetype": "text/x-python",
   "name": "python",
   "nbconvert_exporter": "python",
   "pygments_lexer": "ipython3",
   "version": "3.9.16"
  }
 },
 "nbformat": 4,
 "nbformat_minor": 4
}
