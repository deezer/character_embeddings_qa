{
 "cells": [
  {
   "cell_type": "code",
   "execution_count": 8,
   "id": "e6bdd8ae-54fd-455a-8a6e-d88dbd8c5ad4",
   "metadata": {
    "tags": []
   },
   "outputs": [],
   "source": [
    "from datasets import load_dataset"
   ]
  },
  {
   "cell_type": "code",
   "execution_count": 9,
   "id": "0b0989ad-0af3-4fc5-b1ac-7d3f1138b326",
   "metadata": {
    "tags": []
   },
   "outputs": [],
   "source": [
    "import json "
   ]
  },
  {
   "cell_type": "code",
   "execution_count": 237,
   "id": "a6854b41-e198-45f0-aa7a-74221dc65560",
   "metadata": {
    "tags": []
   },
   "outputs": [],
   "source": [
    "d =json.load(open(\"scene_data/train_data.json\"))"
   ]
  },
  {
   "cell_type": "code",
   "execution_count": 238,
   "id": "64316c5f-8a34-46a0-8a94-1ddb128c360c",
   "metadata": {
    "tags": []
   },
   "outputs": [],
   "source": [
    "from collections import defaultdict\n",
    "data = defaultdict(list)"
   ]
  },
  {
   "cell_type": "code",
   "execution_count": 239,
   "id": "508e51ec-9924-42a2-bfb6-9a3eb050f4a5",
   "metadata": {
    "tags": []
   },
   "outputs": [],
   "source": [
    "plays = {d[i][\"play\"] :i for i in range(len(d))}\n",
    "data = []\n",
    "for dd in d :\n",
    "    data.append(\n",
    "    {\n",
    "        \"query\":list(dd[\"data\"].values())[0],\n",
    "        \"true_target\": [\"\"],\n",
    "        \"play_index\":plays[dd[\"play\"]],\n",
    "        \"act_index\":0\n",
    "    })\n",
    "json.dump(data, open(\"hgface_full/scene/train.json\",\"w\"))"
   ]
  },
  {
   "cell_type": "code",
   "execution_count": 234,
   "id": "5e9bc6a1-4b44-4d0a-a74b-17efbf5acaed",
   "metadata": {
    "tags": []
   },
   "outputs": [],
   "source": [
    "data = []\n",
    "t =json.load(open(\"scene_data/test_targets.json\"))\n",
    "q =json.load(open(\"scene_data/test_queries.json\"))\n",
    "for qq, tt in zip(q,t)  : \n",
    "    data.append(\n",
    "    {\n",
    "        \"query\":list(qq[\"data\"].values())[0],\n",
    "        \"true_target\": list(tt[\"data\"].values())[0],\n",
    "        \"play_index\":qq[\"play_index\"],\n",
    "        \"act_index\":qq[\"act_index\"]\n",
    "    })\n",
    "json.dump(data, open(\"hgface_full/scene/test.json\",\"w\"))"
   ]
  },
  {
   "cell_type": "code",
   "execution_count": 235,
   "id": "402fcc8b-cacc-4feb-b9e3-fee295f40f89",
   "metadata": {
    "tags": []
   },
   "outputs": [],
   "source": [
    "data = []\n",
    "t =json.load(open(\"scene_data/val_targets.json\"))\n",
    "q =json.load(open(\"scene_data/val_queries.json\"))\n",
    "for qq, tt in zip(q,t)  : \n",
    "    data.append(\n",
    "    {\n",
    "        \"query\":list(qq[\"data\"].values())[0],\n",
    "        \"true_target\": list(tt[\"data\"].values())[0],\n",
    "        \"play_index\":qq[\"play_index\"],\n",
    "        \"act_index\":qq[\"act_index\"]\n",
    "    })\n",
    "json.dump(data, open(\"hgface_full/scene/validation.json\",\"w\"))"
   ]
  },
  {
   "cell_type": "code",
   "execution_count": 259,
   "id": "55b61aa7-066c-414f-8ba7-9c31eee190ff",
   "metadata": {
    "tags": []
   },
   "outputs": [],
   "source": [
    "import yaml"
   ]
  },
  {
   "cell_type": "code",
   "execution_count": 266,
   "id": "76bef392-c0b5-465f-ae11-eb8eef50a697",
   "metadata": {
    "tags": []
   },
   "outputs": [],
   "source": [
    "u = yaml.safe_load(open(\"hgface_full/scene/uu.yaml\",\"r\"))"
   ]
  },
  {
   "cell_type": "code",
   "execution_count": 267,
   "id": "a3b99d99-0530-4c5a-a074-06e4271b5d78",
   "metadata": {
    "tags": []
   },
   "outputs": [
    {
     "ename": "KeyError",
     "evalue": "'features'",
     "output_type": "error",
     "traceback": [
      "\u001b[0;31m---------------------------------------------------------------------------\u001b[0m",
      "\u001b[0;31mKeyError\u001b[0m                                  Traceback (most recent call last)",
      "Cell \u001b[0;32mIn[267], line 1\u001b[0m\n\u001b[0;32m----> 1\u001b[0m \u001b[43mu\u001b[49m\u001b[43m[\u001b[49m\u001b[38;5;124;43m\"\u001b[39;49m\u001b[38;5;124;43mfeatures\u001b[39;49m\u001b[38;5;124;43m\"\u001b[39;49m\u001b[43m]\u001b[49m\n",
      "\u001b[0;31mKeyError\u001b[0m: 'features'"
     ]
    }
   ],
   "source": [
    "u[\"features\"]"
   ]
  },
  {
   "cell_type": "code",
   "execution_count": 270,
   "id": "01ef5194-bb18-48dd-87af-c3236e66380a",
   "metadata": {
    "tags": []
   },
   "outputs": [
    {
     "data": {
      "application/vnd.jupyter.widget-view+json": {
       "model_id": "4343a66c73e941d0b6b5cb54e2148af6",
       "version_major": 2,
       "version_minor": 0
      },
      "text/plain": [
       "Generating train split:   0%|          | 0/226 [00:00<?, ? examples/s]"
      ]
     },
     "metadata": {},
     "output_type": "display_data"
    },
    {
     "data": {
      "application/vnd.jupyter.widget-view+json": {
       "model_id": "3c161b1057cd43de848eee6e3a797ae8",
       "version_major": 2,
       "version_minor": 0
      },
      "text/plain": [
       "Generating validation split:   0%|          | 0/917 [00:00<?, ? examples/s]"
      ]
     },
     "metadata": {},
     "output_type": "display_data"
    },
    {
     "data": {
      "application/vnd.jupyter.widget-view+json": {
       "model_id": "3f4aa5efa2c74baf81d35482d7432bde",
       "version_major": 2,
       "version_minor": 0
      },
      "text/plain": [
       "Generating test split:   0%|          | 0/1214 [00:00<?, ? examples/s]"
      ]
     },
     "metadata": {},
     "output_type": "display_data"
    }
   ],
   "source": [
    "u = load_dataset(\"hgface_full/\",\"play\")"
   ]
  },
  {
   "cell_type": "code",
   "execution_count": 271,
   "id": "2887cde7-ff2d-410c-930f-858924920b73",
   "metadata": {
    "tags": []
   },
   "outputs": [
    {
     "data": {
      "text/plain": [
       "DatasetDict({\n",
       "    train: Dataset({\n",
       "        features: ['query', 'true_target', 'play_index', 'act_index'],\n",
       "        num_rows: 226\n",
       "    })\n",
       "    validation: Dataset({\n",
       "        features: ['query', 'true_target', 'play_index', 'act_index'],\n",
       "        num_rows: 917\n",
       "    })\n",
       "    test: Dataset({\n",
       "        features: ['query', 'true_target', 'play_index', 'act_index'],\n",
       "        num_rows: 1214\n",
       "    })\n",
       "})"
      ]
     },
     "execution_count": 271,
     "metadata": {},
     "output_type": "execute_result"
    }
   ],
   "source": [
    "u"
   ]
  },
  {
   "cell_type": "code",
   "execution_count": 277,
   "id": "57f3e200-cbfd-477e-9f05-d3c52efb1105",
   "metadata": {
    "tags": []
   },
   "outputs": [],
   "source": [
    "from datasets import load_dataset\n",
    "\n",
    "# Loads the scene split \n",
    "scene_data = load_dataset(\"gasmichel/DramaCV\", \"scene\")\n",
    "\n",
    "# Loads the play split\n",
    "play_data = load_dataset(\"gasmichel/DramaCV\", \"play\")\n",
    "\n",
    "# Train data contains utterances regrouped by character\n"
   ]
  },
  {
   "cell_type": "code",
   "execution_count": 294,
   "id": "fd88b19f-f50f-4108-ba8f-bad02ee2a34b",
   "metadata": {
    "tags": []
   },
   "outputs": [
    {
     "data": {
      "text/plain": [
       "7"
      ]
     },
     "execution_count": 294,
     "metadata": {},
     "output_type": "execute_result"
    }
   ],
   "source": [
    "scene_data[\"train\"][6][\"play_index\"]"
   ]
  },
  {
   "cell_type": "code",
   "execution_count": 280,
   "id": "ab6543ca-649c-421a-9525-0bfd0f7008d8",
   "metadata": {
    "tags": []
   },
   "outputs": [
    {
     "name": "stdout",
     "output_type": "stream",
     "text": [
      "DatasetDict({\n",
      "    train: Dataset({\n",
      "        features: ['query', 'true_target', 'play_index', 'act_index'],\n",
      "        num_rows: 1507\n",
      "    })\n",
      "    validation: Dataset({\n",
      "        features: ['query', 'true_target', 'play_index', 'act_index'],\n",
      "        num_rows: 1557\n",
      "    })\n",
      "    test: Dataset({\n",
      "        features: ['query', 'true_target', 'play_index', 'act_index'],\n",
      "        num_rows: 1319\n",
      "    })\n",
      "})\n"
     ]
    }
   ],
   "source": [
    "print(scene_data)"
   ]
  },
  {
   "cell_type": "code",
   "execution_count": null,
   "id": "5035bba6-65d4-4e5c-abc9-ea4dd5bf3e81",
   "metadata": {},
   "outputs": [],
   "source": []
  },
  {
   "cell_type": "code",
   "execution_count": 275,
   "id": "157416f7-e6e1-4e05-bbd2-5b8735fcfc68",
   "metadata": {},
   "outputs": [
    {
     "data": {
      "application/vnd.jupyter.widget-view+json": {
       "model_id": "39639adf4bd64035afd5aa0b05ee3ae1",
       "version_major": 2,
       "version_minor": 0
      },
      "text/plain": [
       "Downloading data:   0%|          | 0.00/2.55M [00:00<?, ?B/s]"
      ]
     },
     "metadata": {},
     "output_type": "display_data"
    },
    {
     "data": {
      "application/vnd.jupyter.widget-view+json": {
       "model_id": "1b327a21fd5640ae9db718c76f703b1e",
       "version_major": 2,
       "version_minor": 0
      },
      "text/plain": [
       "Downloading data:   0%|          | 0.00/4.23M [00:00<?, ?B/s]"
      ]
     },
     "metadata": {},
     "output_type": "display_data"
    },
    {
     "data": {
      "application/vnd.jupyter.widget-view+json": {
       "model_id": "af888e2588a64a3b980ca834d5782440",
       "version_major": 2,
       "version_minor": 0
      },
      "text/plain": [
       "Downloading data:   0%|          | 0.00/5.85M [00:00<?, ?B/s]"
      ]
     },
     "metadata": {},
     "output_type": "display_data"
    },
    {
     "data": {
      "application/vnd.jupyter.widget-view+json": {
       "model_id": "687403553351476db3da72bf4a51b293",
       "version_major": 2,
       "version_minor": 0
      },
      "text/plain": [
       "Generating train split:   0%|          | 0/226 [00:00<?, ? examples/s]"
      ]
     },
     "metadata": {},
     "output_type": "display_data"
    },
    {
     "data": {
      "application/vnd.jupyter.widget-view+json": {
       "model_id": "0e526b86ab5f4521a54b77a97fb81cb1",
       "version_major": 2,
       "version_minor": 0
      },
      "text/plain": [
       "Generating validation split:   0%|          | 0/917 [00:00<?, ? examples/s]"
      ]
     },
     "metadata": {},
     "output_type": "display_data"
    },
    {
     "data": {
      "application/vnd.jupyter.widget-view+json": {
       "model_id": "e5d02637d655407b9f43d9666b4be0c3",
       "version_major": 2,
       "version_minor": 0
      },
      "text/plain": [
       "Generating test split:   0%|          | 0/1214 [00:00<?, ? examples/s]"
      ]
     },
     "metadata": {},
     "output_type": "display_data"
    },
    {
     "data": {
      "text/plain": [
       "DatasetDict({\n",
       "    train: Dataset({\n",
       "        features: ['query', 'true_target', 'play_index', 'act_index'],\n",
       "        num_rows: 226\n",
       "    })\n",
       "    validation: Dataset({\n",
       "        features: ['query', 'true_target', 'play_index', 'act_index'],\n",
       "        num_rows: 917\n",
       "    })\n",
       "    test: Dataset({\n",
       "        features: ['query', 'true_target', 'play_index', 'act_index'],\n",
       "        num_rows: 1214\n",
       "    })\n",
       "})"
      ]
     },
     "execution_count": 275,
     "metadata": {},
     "output_type": "execute_result"
    }
   ],
   "source": [
    "load_dataset(\"gasmichel/DramaCV\", \"play\")"
   ]
  },
  {
   "cell_type": "code",
   "execution_count": 242,
   "id": "66744454-544b-48fe-8b25-ec1e93286fb3",
   "metadata": {},
   "outputs": [],
   "source": [
    "from huggingface_hub import HfApi"
   ]
  },
  {
   "cell_type": "code",
   "execution_count": 243,
   "id": "a9b59711-aa7f-4803-ab75-c1ab913fa570",
   "metadata": {
    "tags": []
   },
   "outputs": [],
   "source": [
    "api = HfApi()"
   ]
  },
  {
   "cell_type": "code",
   "execution_count": 296,
   "id": "a9d9eeef-4f20-4797-98f8-05173a4f2e9f",
   "metadata": {
    "tags": []
   },
   "outputs": [
    {
     "data": {
      "text/plain": [
       "CommitInfo(commit_url='https://huggingface.co/datasets/gasmichel/DramaCV/commit/36c99b202745b0453e4f2f48d7ba6bcc4e23891b', commit_message='Delete folder .ipynb_checkpoints with huggingface_hub', commit_description='', oid='36c99b202745b0453e4f2f48d7ba6bcc4e23891b', pr_url=None, repo_url=RepoUrl('https://huggingface.co/datasets/gasmichel/DramaCV', endpoint='https://huggingface.co', repo_type='dataset', repo_id='gasmichel/DramaCV'), pr_revision=None, pr_num=None)"
      ]
     },
     "execution_count": 296,
     "metadata": {},
     "output_type": "execute_result"
    }
   ],
   "source": [
    "api.delete_folder(repo_id=\"gasmichel/DramaCV\", path_in_repo=\".ipynb_checkpoints\", token=token, repo_type=\"dataset\")"
   ]
  },
  {
   "cell_type": "code",
   "execution_count": 295,
   "id": "b66441d4-c935-44e8-aae1-9f8b1d111a67",
   "metadata": {
    "tags": []
   },
   "outputs": [
    {
     "data": {
      "text/plain": [
       "CommitInfo(commit_url='https://huggingface.co/datasets/gasmichel/DramaCV/commit/7498d93b8c5b6f929c5845e8005b44989a78e19f', commit_message='Upload folder using huggingface_hub', commit_description='', oid='7498d93b8c5b6f929c5845e8005b44989a78e19f', pr_url=None, repo_url=RepoUrl('https://huggingface.co/datasets/gasmichel/DramaCV', endpoint='https://huggingface.co', repo_type='dataset', repo_id='gasmichel/DramaCV'), pr_revision=None, pr_num=None)"
      ]
     },
     "execution_count": 295,
     "metadata": {},
     "output_type": "execute_result"
    }
   ],
   "source": [
    "api.upload_folder(repo_id=\"gasmichel/DramaCV\", folder_path=\"hgface_full/\", token=token, repo_type=\"dataset\")"
   ]
  },
  {
   "cell_type": "code",
   "execution_count": null,
   "id": "2c6dfb00-0bba-4c51-a271-158f88350250",
   "metadata": {},
   "outputs": [],
   "source": []
  },
  {
   "cell_type": "code",
   "execution_count": null,
   "id": "2b648679-de3d-4950-9d30-1350a1e87ca2",
   "metadata": {},
   "outputs": [],
   "source": []
  },
  {
   "cell_type": "code",
   "execution_count": 301,
   "id": "2f8303be-2352-4ed7-854d-72832bf8696a",
   "metadata": {
    "tags": []
   },
   "outputs": [
    {
     "data": {
      "text/plain": [
       "CommitInfo(commit_url='https://huggingface.co/gasmichel/UAR_Play/commit/ecf231e6434affc38cab642ad241eaf328304763', commit_message='Upload README.md with huggingface_hub', commit_description='', oid='ecf231e6434affc38cab642ad241eaf328304763', pr_url=None, repo_url=RepoUrl('https://huggingface.co/gasmichel/UAR_Play', endpoint='https://huggingface.co', repo_type='model', repo_id='gasmichel/UAR_Play'), pr_revision=None, pr_num=None)"
      ]
     },
     "execution_count": 301,
     "metadata": {},
     "output_type": "execute_result"
    }
   ],
   "source": [
    "api.upload_file(path_in_repo = \"README.md\", repo_id=\"gasmichel/UAR_Play\", path_or_fileobj=\"test/README.md\", token=token)"
   ]
  }
 ],
 "metadata": {
  "kernelspec": {
   "display_name": "Python 3 (ipykernel)",
   "language": "python",
   "name": "python3"
  },
  "language_info": {
   "codemirror_mode": {
    "name": "ipython",
    "version": 3
   },
   "file_extension": ".py",
   "mimetype": "text/x-python",
   "name": "python",
   "nbconvert_exporter": "python",
   "pygments_lexer": "ipython3",
   "version": "3.9.16"
  }
 },
 "nbformat": 4,
 "nbformat_minor": 5
}
