{
 "cells": [
  {
   "cell_type": "code",
   "execution_count": 5,
   "id": "4cca6230-ccc9-4516-bd6a-70630b75b83a",
   "metadata": {
    "tags": []
   },
   "outputs": [],
   "source": [
    "from create_book_corefs import *"
   ]
  },
  {
   "cell_type": "code",
   "execution_count": 130,
   "id": "abfa35a9-224e-480e-9077-417bd445fca8",
   "metadata": {
    "tags": []
   },
   "outputs": [],
   "source": [
    "import sys\n",
    "sys.path.append(\"../training/data/\")"
   ]
  },
  {
   "cell_type": "code",
   "execution_count": 127,
   "id": "8ce762ee-7770-49df-a66c-302f19547a99",
   "metadata": {
    "tags": []
   },
   "outputs": [
    {
     "name": "stdout",
     "output_type": "stream",
     "text": [
      "APassageToIndia\n",
      "original count: 84 ; enhanced count: 192\n",
      "Multiple match count: 3/3777\n",
      "No match count: 3712/3777\n",
      "Unique match count: 62/3777\n",
      "original count: 84 ; enhanced count: 192\n",
      "APassageToIndia\n",
      "Added 1847/1847 from exp\n",
      "Added 5559/7211 from booknlp\n",
      "HardTimes\n",
      "original count: 73 ; enhanced count: 156\n",
      "Multiple match count: 9/3062\n",
      "No match count: 3021/3062\n",
      "Unique match count: 32/3062\n",
      "original count: 73 ; enhanced count: 156\n",
      "HardTimes\n",
      "Added 2852/2852 from exp\n",
      "Added 1838/2635 from booknlp\n",
      "MansfieldPark\n",
      "original count: 59 ; enhanced count: 122\n",
      "Multiple match count: 11/3414\n",
      "No match count: 3375/3414\n",
      "Unique match count: 28/3414\n",
      "original count: 59 ; enhanced count: 122\n",
      "MansfieldPark\n",
      "Added 3997/3997 from exp\n",
      "Added 6282/7936 from booknlp\n",
      "OliverTwist\n",
      "original count: 185 ; enhanced count: 378\n",
      "Multiple match count: 2/4395\n",
      "No match count: 4234/4395\n",
      "Unique match count: 159/4395\n",
      "original count: 185 ; enhanced count: 378\n",
      "OliverTwist\n",
      "Added 5060/5060 from exp\n",
      "Added 7960/12616 from booknlp\n",
      "WhereAngelsFearToTread\n",
      "original count: 31 ; enhanced count: 66\n",
      "Multiple match count: 1/1698\n",
      "No match count: 1678/1698\n",
      "Unique match count: 19/1698\n",
      "original count: 31 ; enhanced count: 66\n",
      "WhereAngelsFearToTread\n",
      "Added 1269/1269 from exp\n",
      "Added 3788/5019 from booknlp\n",
      "WinnieThePooh\n",
      "original count: 20 ; enhanced count: 37\n",
      "Multiple match count: 1/445\n",
      "No match count: 431/445\n",
      "Unique match count: 13/445\n",
      "original count: 20 ; enhanced count: 37\n",
      "WinnieThePooh\n",
      "Added 1293/1293 from exp\n",
      "Added 1853/2948 from booknlp\n"
     ]
    }
   ],
   "source": [
    "!python create_book_corefs.py"
   ]
  },
  {
   "cell_type": "code",
   "execution_count": 2,
   "id": "e094a093-1de9-4221-9565-fee954e8a578",
   "metadata": {
    "tags": []
   },
   "outputs": [
    {
     "name": "stdout",
     "output_type": "stream",
     "text": [
      "APassageToIndia.entities\tcharInfo.dict.pkl   quotation_info.csv\n",
      "APassageToIndia.name_cloze.txt\tcharacter_info.csv  quote_info.csv\n",
      "APassageToIndia.named_entities\tcontext_quotes.txt\n",
      "APassageToIndia.tokens\t\tnovel_text.txt\n"
     ]
    }
   ],
   "source": [
    "!ls /data/datasets/project-dialogism-novel-corpus/data/APassageToIndia/"
   ]
  },
  {
   "cell_type": "code",
   "execution_count": null,
   "id": "be7cc1ff-ef26-443e-ab19-c88f7aa58076",
   "metadata": {},
   "outputs": [],
   "source": []
  },
  {
   "cell_type": "code",
   "execution_count": null,
   "id": "9eae6a93-c16c-4dba-9e3e-dec2f7697db6",
   "metadata": {},
   "outputs": [],
   "source": []
  },
  {
   "cell_type": "code",
   "execution_count": null,
   "id": "1a34dcab-e076-4ef4-8f1e-8b2353fe0485",
   "metadata": {},
   "outputs": [],
   "source": []
  },
  {
   "cell_type": "code",
   "execution_count": 3,
   "id": "4f2873bb-b1cb-47a9-8c1b-8f506fbc3f93",
   "metadata": {
    "tags": []
   },
   "outputs": [],
   "source": [
    "import os "
   ]
  },
  {
   "cell_type": "code",
   "execution_count": 109,
   "id": "19f47cfd-33e7-4105-80fc-903fbd278129",
   "metadata": {
    "tags": []
   },
   "outputs": [],
   "source": [
    "import shutil"
   ]
  },
  {
   "cell_type": "code",
   "execution_count": 131,
   "id": "096ff12d-ce56-4f35-b9ab-01f12ac56b93",
   "metadata": {
    "tags": []
   },
   "outputs": [],
   "source": [
    "DATA_ROOT = 'pdnc_output/'\n",
    "# ALIGNED_DATA_ROOT = '/data/datasets/project-dialogism-novel-corpus/aligned_data/'\n",
    "\n",
    "for novel in [\"APassageToIndia\", \"HardTimes\", \"MansfieldPark\", \"OliverTwist\", \"WhereAngelsFearToTread\", \"WinnieThePooh\", \"DarkCorners\"] :\n",
    "    source = pd.read_csv(f\"pdnc_output/{novel}/merged_mentions.csv\")\n",
    "    source.to_csv(f\"../data/test_pdnc_source/{novel}/mentions_used.csv\", index=False)"
   ]
  },
  {
   "cell_type": "code",
   "execution_count": 126,
   "id": "c5d4b87d-5fac-438f-923b-102995a7d442",
   "metadata": {
    "tags": []
   },
   "outputs": [
    {
     "name": "stdout",
     "output_type": "stream",
     "text": [
      "mkdir: cannot create directory ‘../data/test_pdnc_source/’: File exists\n"
     ]
    }
   ],
   "source": [
    "!mkdir ../data/test_pdnc_source/\n",
    "!mkdir ../data/test_pdnc_source/DarkCorners\n",
    "!cp -r /data/datasets/project-dialogism-novel-corpus/aligned_unseen_data/DarkCorners/* ../data/test_pdnc_source/DarkCorners"
   ]
  },
  {
   "cell_type": "code",
   "execution_count": 20,
   "id": "10614ee9-e55b-4c3a-97df-34da20b2189a",
   "metadata": {
    "tags": []
   },
   "outputs": [],
   "source": [
    "import re\n",
    "import pandas as pd \n",
    "def replace_single(text):\n",
    "    \n",
    "    text = re.sub('(?<![\\r\\n])(\\r?\\n|\\n?\\r)(?![\\r\\n])',\" \", text) #replace single newlines\n",
    "\n",
    "    return text"
   ]
  },
  {
   "cell_type": "code",
   "execution_count": 88,
   "id": "ca5fe62d-92b2-49db-a303-cc68081f8583",
   "metadata": {
    "tags": []
   },
   "outputs": [],
   "source": [
    "t = open(\"/data/datasets/project-dialogism-novel-corpus/data/APassageToIndia/novel_text.txt\").read()\n",
    "t = replace_single(t).lower()"
   ]
  },
  {
   "cell_type": "code",
   "execution_count": 89,
   "id": "78e191e6-7ad1-4585-b629-0cfc0d9fb58f",
   "metadata": {
    "tags": []
   },
   "outputs": [],
   "source": [
    "t = replace_single(t).lower()"
   ]
  },
  {
   "cell_type": "code",
   "execution_count": 101,
   "id": "55db531c-7b68-476c-b2e5-bca8688d471e",
   "metadata": {
    "tags": []
   },
   "outputs": [],
   "source": [
    "def get_chapter_boundaries(t) : \n",
    "    s = []\n",
    "    first_match = re.finditer(\"prologue\\n\",t)\n",
    "    for m in first_match: \n",
    "        s.append(m.span()[0])\n",
    "\n",
    "    # conditions = [re.finditer(\"chapter [\\d]+\\n\", t), re.finditer(\"chapter [ixvl]+\\n\", t), re.finditer(\"[\\s]+[ixvl]+\\n\\n\", t), re.finditer(\"part [\\d]+\\n\", t), re.finditer(f\"chapter \", t)]\n",
    "    conditions  = [re.finditer(\"(chapter [^\\n]+\\n\\n)\", t), re.finditer(\"(part [\\d\\w \\.]+[:]?\\n\\n)\",t), re.finditer(\"(part [\\d\\w \\.]+[:]?[ ]?[\\w]+\\n\\n)|(chapter[:]? [\\dixvl\\.]+)[^\\n]+\\n\", t), re.finditer(\"\\n\\n([\\[ixvl\\.\\]]+)\\n\\n\", t), re.finditer(\"(chapter[\\s]+)\\n\", t) ]\n",
    "    chapter_conditions = [re.finditer(\"^\\\"(chapter[:]? [\\d]+)[^\\n]+\\n\\n\", t), re.finditer(\"(chapter[:]? [\\w]+)[^\\n]+\\n\\n\", t)]\n",
    "    part_conditions = [re.finditer(\"(part[:]? [\\d]+)[^\\n]+\\n\\n\\n\", t), re.finditer(\"(part[:]? [\\w]+)[^\\n]+\\n\\n\\n\", t)]\n",
    "    \n",
    "    chapter_conditions = [re.finditer(\"(chapter[:]? [\\dixvl\\.]+)\\n|(chapter[:]? [\\dixvl\\.]+)[\\:\\.]+[^\\n]+\\n|(chapter\\n[ ]+[\\d]+)|(chapter\\n[ ]+[\\d]+)|(chapter[:]? [\\dixvl\\.]+)[^\\n]+\\n\", t)]#, re.finditer(\"(chapter[:]? [\\w]+)\\n\\n|(chapter[:]? [\\w]+)[\\:]+[^\\n]+\\n\\n\", t)]\n",
    "    part_conditions = [re.finditer(\"(part[:]? [\\dixvl\\.]+)\\n\\n\\n|(part[:]? [\\dixvl\\.]+)[\\:\\.]+[^\\n]+\\n\\n\\n\", t)]#, re.finditer(\"(part[:]? [\\w]+)[^\\n]+\\n\\n\\n\", t)]\n",
    "    weird_condition = [re.finditer(\"\\n\\n[\\[]?([\\dixvl.]+)[\\]]?\\n\\n\", t)]\n",
    "    chapter_string_condition = \"\"\n",
    "    for idx in range(1,100): \n",
    "        if idx < 99 : \n",
    "            chapter_string_condition += f\"chapter {num2word.word(idx).lower()}\\n|\"\n",
    "        else : \n",
    "            chapter_string_condition += f\"chapter {num2word.word(idx).lower()}\\n\"\n",
    "    chapter_string_condition = [re.finditer(chapter_string_condition, t)]\n",
    "    conditions = chapter_conditions + part_conditions + weird_condition + chapter_string_condition\n",
    "    for idx, cond in enumerate(conditions) : \n",
    "        u = list(cond)\n",
    "        if len(u) > 0 : \n",
    "            for match in u : \n",
    "                s.append(match.span()[0])\n",
    "                \n",
    "    end_match = re.finditer(\"epilogue\\n\",t)\n",
    "    for m in end_match :\n",
    "        s.append(m.span()[0])\n",
    "    s = sorted(s)\n",
    "    ss = s[1:]\n",
    "    sss = s[:-1]\n",
    "    vals = [i-j for i,j in zip(ss,sss)]\n",
    "    # choices = np.arange(len(s)).reshape(-1,2)\n",
    "\n",
    "    cnt = 0\n",
    "    for idx in range(1,len(vals)+1) : \n",
    "        if vals[idx-1] < 100 : \n",
    "            #boundaries.append(s[choices[idx][0]])\n",
    "            s.pop(idx - cnt)\n",
    "            cnt += 1\n",
    "    \n",
    "    boundaries = np.zeros(shape=(len(s), 2), dtype=int)\n",
    "    boundaries[:,0] = s\n",
    "    boundaries[:-1,1] = s[1:]\n",
    "    boundaries[-1][-1] = len(t)\n",
    "    return boundaries.tolist()"
   ]
  },
  {
   "cell_type": "code",
   "execution_count": 102,
   "id": "3957eff4-c8ec-404f-bfc8-e4b061063180",
   "metadata": {
    "tags": []
   },
   "outputs": [
    {
     "name": "stdout",
     "output_type": "stream",
     "text": [
      "APassageToIndia 37\n",
      "HardTimes 37\n",
      "MansfieldPark 48\n",
      "OliverTwist 53\n",
      "WhereAngelsFearToTread 10\n",
      "WinnieThePooh 10\n"
     ]
    }
   ],
   "source": [
    "import num2word\n",
    "import numpy as np\n",
    "\n",
    "for novel in [\"APassageToIndia\", \"HardTimes\", \"MansfieldPark\", \"OliverTwist\", \"WhereAngelsFearToTread\", \"WinnieThePooh\"]:\n",
    "    t = open(f\"/data/datasets/project-dialogism-novel-corpus/data/{novel}/novel_text.txt\").read()\n",
    "    # t = replace_single(t).lower()\n",
    "    print(novel, len(get_chapter_boundaries(t.lower())))"
   ]
  },
  {
   "cell_type": "code",
   "execution_count": 7,
   "id": "4d0c2073-ee04-4384-99ce-c3ede8e1748e",
   "metadata": {
    "tags": []
   },
   "outputs": [],
   "source": [
    "DATA_ROOT = '/data/datasets/project-dialogism-novel-corpus/aligned_data/'\n",
    "\n",
    "COREF_ROOT = 'pdnc_output'\n",
    "SAVE_ROOT = COREF_ROOT\n",
    "\n",
    "IGNORE = ['_unknowable', '_group', '_narr', 'Unknowable', '(Unknown)', 'Unknown']\n",
    "PREFIXES = ['Mr.', 'Mrs.', 'Miss.', 'Lady', 'Sir', 'Mrs', 'Mr', 'Miss', 'Dr.', 'Dr', 'Madame', 'Madam', \\\n",
    "           'Mademoiselle', 'St.', 'St', 'Ms.', 'Ms', 'Count', 'Countess']\n",
    "PREFIXES.extend([x.lower() for x in PREFIXES])\n",
    "\n",
    "novels = []\n",
    "for nf in os.scandir(DATA_ROOT):\n",
    "    if os.path.isdir(nf) and nf.name[0] not in ['.', '_']:\n",
    "        novels.append(nf.name)\n",
    "novels = sorted(novels)"
   ]
  },
  {
   "cell_type": "code",
   "execution_count": 8,
   "id": "4a277196-954a-4531-96dd-cbf81a692781",
   "metadata": {
    "tags": []
   },
   "outputs": [
    {
     "name": "stdout",
     "output_type": "stream",
     "text": [
      "APassageToIndia\n"
     ]
    },
    {
     "ename": "NameError",
     "evalue": "name 'SAVE_ROOT' is not defined",
     "output_type": "error",
     "traceback": [
      "\u001b[0;31m---------------------------------------------------------------------------\u001b[0m",
      "\u001b[0;31mNameError\u001b[0m                                 Traceback (most recent call last)",
      "Cell \u001b[0;32mIn[8], line 1\u001b[0m\n\u001b[0;32m----> 1\u001b[0m \u001b[43mbooknlp_process_novel\u001b[49m\u001b[43m(\u001b[49m\u001b[43mnovels\u001b[49m\u001b[43m[\u001b[49m\u001b[38;5;241;43m0\u001b[39;49m\u001b[43m]\u001b[49m\u001b[43m)\u001b[49m\n",
      "File \u001b[0;32m/workspace/speaker-attribution-acl2023/booknlpen/create_book_corefs.py:87\u001b[0m, in \u001b[0;36mbooknlp_process_novel\u001b[0;34m(novel)\u001b[0m\n\u001b[1;32m     84\u001b[0m \u001b[38;5;28;01mdef\u001b[39;00m \u001b[38;5;21mbooknlp_process_novel\u001b[39m(novel):\n\u001b[1;32m     85\u001b[0m     \u001b[38;5;28mprint\u001b[39m(novel)\n\u001b[0;32m---> 87\u001b[0m     \u001b[38;5;28;01mif\u001b[39;00m \u001b[38;5;129;01mnot\u001b[39;00m os\u001b[38;5;241m.\u001b[39mpath\u001b[38;5;241m.\u001b[39misdir(os\u001b[38;5;241m.\u001b[39mpath\u001b[38;5;241m.\u001b[39mjoin(\u001b[43mSAVE_ROOT\u001b[49m, novel)):\n\u001b[1;32m     88\u001b[0m         os\u001b[38;5;241m.\u001b[39mmkdir(os\u001b[38;5;241m.\u001b[39mpath\u001b[38;5;241m.\u001b[39mjoin(SAVE_ROOT, novel))\n\u001b[1;32m     90\u001b[0m     entdf_path \u001b[38;5;241m=\u001b[39m os\u001b[38;5;241m.\u001b[39mpath\u001b[38;5;241m.\u001b[39mjoin(COREF_ROOT, novel, novel\u001b[38;5;241m+\u001b[39m\u001b[38;5;124m'\u001b[39m\u001b[38;5;124m.entities\u001b[39m\u001b[38;5;124m'\u001b[39m)\n",
      "\u001b[0;31mNameError\u001b[0m: name 'SAVE_ROOT' is not defined"
     ]
    }
   ],
   "source": [
    "booknlp_process_novel(novels[0])"
   ]
  },
  {
   "cell_type": "code",
   "execution_count": null,
   "id": "c82a573c-630c-41ce-b649-ed29ca9decb9",
   "metadata": {},
   "outputs": [],
   "source": []
  },
  {
   "cell_type": "code",
   "execution_count": null,
   "id": "9a1999bd-760b-4769-ad8c-b7d6ee3228dd",
   "metadata": {},
   "outputs": [],
   "source": []
  },
  {
   "cell_type": "code",
   "execution_count": null,
   "id": "5400de88-0f75-4531-8067-89b633e44dec",
   "metadata": {},
   "outputs": [],
   "source": []
  },
  {
   "cell_type": "code",
   "execution_count": null,
   "id": "f02d679e-e052-4934-83cb-a25984dd7b51",
   "metadata": {},
   "outputs": [],
   "source": []
  }
 ],
 "metadata": {
  "kernelspec": {
   "display_name": "Python 3 (ipykernel)",
   "language": "python",
   "name": "python3"
  },
  "language_info": {
   "codemirror_mode": {
    "name": "ipython",
    "version": 3
   },
   "file_extension": ".py",
   "mimetype": "text/x-python",
   "name": "python",
   "nbconvert_exporter": "python",
   "pygments_lexer": "ipython3",
   "version": "3.9.16"
  }
 },
 "nbformat": 4,
 "nbformat_minor": 5
}
