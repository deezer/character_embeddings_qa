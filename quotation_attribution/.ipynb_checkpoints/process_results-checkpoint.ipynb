{
 "cells": [
  {
   "cell_type": "code",
   "execution_count": 12,
   "metadata": {
    "tags": []
   },
   "outputs": [],
   "source": [
    "import pandas as pd \n",
    "import numpy as np "
   ]
  },
  {
   "cell_type": "markdown",
   "metadata": {},
   "source": [
    "## Table 3"
   ]
  },
  {
   "cell_type": "code",
   "execution_count": 13,
   "metadata": {
    "tags": []
   },
   "outputs": [],
   "source": [
    "import pandas as pd\n",
    "def print_results(path): \n",
    "\n",
    "    anaphorics = []\n",
    "    implicits = []\n",
    "    noexp = []\n",
    "    explicits = []\n",
    "    n_exp_per_novel = []\n",
    "    for split in range(5) : \n",
    "        novel_an = []\n",
    "        novel_imp = []\n",
    "        df = pd.read_csv(f\"{path}/split_{split}/test_preds_max.csv\")#, \"rb\") as f :\n",
    "        for novel in df[\"novel_id\"].unique() : \n",
    "            sub = df[df[\"novel_id\"] == novel]\n",
    "            quote_data = pd.read_csv(f\"../data/pdnc_source/{novel}/quote_info.csv\")\n",
    "            sub = sub.merge(quote_data[[\"qID\", \"qType\"]], left_on = \"q_id\", right_on = \"qID\", how=\"left\")\n",
    "            an = sub[sub[\"qType\"] == \"Anaphoric\"] \n",
    "            novel_an.extend((an[\"gold\"] == an[\"pred\"]).tolist())\n",
    "            imp = sub[sub[\"qType\"] == \"Implicit\"] \n",
    "            novel_imp.extend((imp[\"gold\"] == imp[\"pred\"]).tolist())\n",
    "            \n",
    "            # n_exp_per_novel.append()\n",
    "            \n",
    "        anaphorics.append(np.mean(novel_an))\n",
    "        implicits.append(np.mean(novel_imp))\n",
    "        noexp.append(np.mean(novel_an + novel_imp))\n",
    "        sub = df[df[\"is_explicit\"] == 1]\n",
    "        explicits.append((sub[\"gold\"] == sub[\"pred\"]).mean())\n",
    "\n",
    "    print(f\"Exp: {np.mean(explicits)*100:0.1f}, {np.std(explicits)*100:0.1f}\")\n",
    "    print(f\"Non Exp: {np.mean(noexp)*100:0.1f}, {np.std(noexp)*100:0.1f}\")\n",
    "    print(f\"Ana: {np.mean(anaphorics)*100:0.1f}, {np.std(anaphorics)*100:0.1f}\")\n",
    "    print(f\"Imp: {np.mean(implicits)*100:0.1f}, {np.std(implicits)*100:0.1f}\")\n",
    "    \n",
    "    return explicits, noexp, anaphorics, implicits\n",
    "\n",
    "# _ = print_results(\"/workspace/speaker-attribution-acl2023/training/results_drama_chapterwise_span_w100_full\")"
   ]
  },
  {
   "cell_type": "code",
   "execution_count": 14,
   "metadata": {
    "tags": []
   },
   "outputs": [
    {
     "name": "stdout",
     "output_type": "stream",
     "text": [
      "[Vanilla]\n",
      "Exp: 98.6, 1.2\n",
      "Non Exp: 68.9, 4.4\n",
      "Ana: 70.2, 7.0\n",
      "Imp: 66.4, 5.7\n"
     ]
    }
   ],
   "source": [
    "print(\"[Vanilla]\")\n",
    "e,n,a,i = print_results(\"training/results_vanilla_span_w100_full//\")"
   ]
  },
  {
   "cell_type": "code",
   "execution_count": 17,
   "metadata": {
    "tags": []
   },
   "outputs": [
    {
     "name": "stdout",
     "output_type": "stream",
     "text": [
      "[Semantics-G]\n",
      "Exp: 98.3, 1.1\n",
      "Non Exp: 70.0, 4.5\n",
      "Ana: 70.8, 7.3\n",
      "Imp: 68.1, 5.5\n"
     ]
    },
    {
     "data": {
      "text/plain": [
       "(0.04348036925688853, 0.10988628240113275, 0.01955772089262581)"
      ]
     },
     "execution_count": 17,
     "metadata": {},
     "output_type": "execute_result"
    }
   ],
   "source": [
    "print(\"[Semantics-G]\")\n",
    "ee,nn,aa,ii = print_results(\"training/results2_semantics_global_span_w100_full/\")\n",
    "from scipy.stats import ttest_rel\n",
    "ttest_rel(n,nn, alternative=\"less\").pvalue, ttest_rel(a,aa, alternative=\"less\").pvalue,  ttest_rel(i,ii, alternative=\"less\").pvalue"
   ]
  },
  {
   "cell_type": "code",
   "execution_count": 18,
   "metadata": {
    "tags": []
   },
   "outputs": [
    {
     "name": "stdout",
     "output_type": "stream",
     "text": [
      "[UAR_Reddit-G]\n",
      "Exp: 98.7, 1.1\n",
      "Non Exp: 71.1, 4.7\n",
      "Ana: 71.5, 7.9\n",
      "Imp: 69.6, 5.3\n"
     ]
    },
    {
     "data": {
      "text/plain": [
       "(0.0554984330219208, 0.10932629740741075, 0.025292037359896984)"
      ]
     },
     "execution_count": 18,
     "metadata": {},
     "output_type": "execute_result"
    }
   ],
   "source": [
    "print(\"[UAR_Reddit-G]\")\n",
    "ee,nn,aa,ii = print_results(\"training/results2_luar_global_span_w100_full//\")\n",
    "from scipy.stats import ttest_rel\n",
    "ttest_rel(n,nn, alternative=\"less\").pvalue, ttest_rel(a,aa, alternative=\"less\").pvalue,  ttest_rel(i,ii, alternative=\"less\").pvalue"
   ]
  },
  {
   "cell_type": "code",
   "execution_count": 19,
   "metadata": {
    "tags": []
   },
   "outputs": [
    {
     "name": "stdout",
     "output_type": "stream",
     "text": [
      "[UAR_play-G]\n",
      "Exp: 98.7, 1.0\n",
      "Non Exp: 70.9, 4.4\n",
      "Ana: 71.1, 7.9\n",
      "Imp: 69.5, 5.7\n"
     ]
    },
    {
     "data": {
      "text/plain": [
       "(0.027600778280191477, 0.1364750627877471, 0.0072391486043245955)"
      ]
     },
     "execution_count": 19,
     "metadata": {},
     "output_type": "execute_result"
    }
   ],
   "source": [
    "print(\"[UAR_play-G]\")\n",
    "ee,nn,aa,ii = print_results(\"training/results2_drama_global_span_w100_full/\")\n",
    "from scipy.stats import ttest_rel\n",
    "ttest_rel(n,nn, alternative=\"less\").pvalue, ttest_rel(a,aa, alternative=\"less\").pvalue,  ttest_rel(i,ii, alternative=\"less\").pvalue"
   ]
  },
  {
   "cell_type": "code",
   "execution_count": 21,
   "metadata": {
    "tags": []
   },
   "outputs": [
    {
     "name": "stdout",
     "output_type": "stream",
     "text": [
      "[UAR_Scene-G]\n",
      "Exp: 98.6, 1.1\n",
      "Non Exp: 71.2, 4.3\n",
      "Ana: 71.7, 8.1\n",
      "Imp: 69.6, 5.4\n"
     ]
    },
    {
     "data": {
      "text/plain": [
       "(0.02181665511066225, 0.08200318682129774, 0.008474192321917285)"
      ]
     },
     "execution_count": 21,
     "metadata": {},
     "output_type": "execute_result"
    }
   ],
   "source": [
    "\n",
    "print(\"[UAR_Scene-G]\")\n",
    "ee,nn,aa,ii  = print_results(\"training/results2_scene_drama_global_span_w100_full///\")\n",
    "ttest_rel(n,nn, alternative=\"less\").pvalue, ttest_rel(a,aa, alternative=\"less\").pvalue,  ttest_rel(i,ii, alternative=\"less\").pvalue"
   ]
  },
  {
   "cell_type": "markdown",
   "metadata": {},
   "source": [
    "## Table 4"
   ]
  },
  {
   "cell_type": "code",
   "execution_count": 28,
   "metadata": {
    "tags": []
   },
   "outputs": [
    {
     "name": "stdout",
     "output_type": "stream",
     "text": [
      "Exp: 98.7, 1.1\n",
      "Non Exp: 71.1, 4.7\n",
      "Ana: 71.5, 7.9\n",
      "Imp: 69.6, 5.3\n",
      "Exp: 98.6, 1.2\n",
      "Non Exp: 71.0, 4.6\n",
      "Ana: 71.5, 7.7\n",
      "Imp: 69.4, 5.2\n",
      "\n",
      "\n",
      "UAR_Reddit\n",
      "[NEXP DIFF] -0.1 +/- 0.00\t\t 0.280\n",
      "[AN DIFF] -0.0 +/- 0.00\t\t 0.422\n",
      "[IMP DIFF] -0.2 +/- 0.00\t\t 0.139\n"
     ]
    }
   ],
   "source": [
    "from scipy.stats import ttest_rel\n",
    "e,n,a,i = print_results(\"training/results2_luar_global_span_w100_full//\")\n",
    "\n",
    "ee,nn,aa,ii = print_results(\"training/silver_results_luar_span_w100_full//\")\n",
    "\n",
    "nn_diff=[i-j for i,j in zip(nn,n)]\n",
    "\n",
    "a_diff=[i-j for i,j in zip(aa,a)]\n",
    "i_diff = [i-j for i,j in zip(ii,i)]\n",
    "\n",
    "print(\"\\n\\nUAR_Reddit\")\n",
    "\n",
    "print(f\"[NEXP DIFF] {np.mean(nn_diff)*100:0.1f} +/- {np.std(nn_diff):0.2f}\\t\\t {ttest_rel(nn,n,alternative='less').pvalue:0.3f}\")\n",
    "print(f\"[AN DIFF] {np.mean(a_diff)*100:0.1f} +/- {np.std(a_diff):0.2f}\\t\\t {ttest_rel(aa,a,alternative='less').pvalue:0.3f}\")\n",
    "print(f\"[IMP DIFF] {np.mean(i_diff)*100:0.1f} +/- {np.std(i_diff):0.2f}\\t\\t {ttest_rel(ii,i,alternative='less').pvalue:0.3f}\")"
   ]
  },
  {
   "cell_type": "code",
   "execution_count": 27,
   "metadata": {
    "tags": []
   },
   "outputs": [
    {
     "name": "stdout",
     "output_type": "stream",
     "text": [
      "Exp: 98.7, 1.0\n",
      "Non Exp: 70.9, 4.4\n",
      "Ana: 71.1, 7.9\n",
      "Imp: 69.5, 5.7\n",
      "Exp: 98.6, 1.0\n",
      "Non Exp: 70.8, 4.3\n",
      "Ana: 71.0, 7.7\n",
      "Imp: 69.2, 5.7\n",
      "\n",
      "\n",
      "UAR_Play\n",
      "[NEXP DIFF] -0.2 +/- 0.00\t\t 0.097\n",
      "[AN DIFF] -0.1 +/- 0.00\t\t 0.264\n",
      "[IMP DIFF] -0.3 +/- 0.00\t\t 0.033\n"
     ]
    }
   ],
   "source": [
    "from scipy.stats import ttest_rel\n",
    "e,n,a,i = print_results(\"training/results2_drama_global_span_w100_full//\")\n",
    "\n",
    "ee,nn,aa,ii = print_results(\"training/silver_results_drama_span_w100_full///\")\n",
    "\n",
    "nn_diff=[i-j for i,j in zip(nn,n)]\n",
    "\n",
    "a_diff=[i-j for i,j in zip(aa,a)]\n",
    "i_diff = [i-j for i,j in zip(ii,i)]\n",
    "\n",
    "print(\"\\n\\nUAR_Play\")\n",
    "print(f\"[NEXP DIFF] {np.mean(nn_diff)*100:0.1f} +/- {np.std(nn_diff):0.2f}\\t\\t {ttest_rel(nn,n,alternative='less').pvalue:0.3f}\")\n",
    "print(f\"[AN DIFF] {np.mean(a_diff)*100:0.1f} +/- {np.std(a_diff):0.2f}\\t\\t {ttest_rel(aa,a,alternative='less').pvalue:0.3f}\")\n",
    "print(f\"[IMP DIFF] {np.mean(i_diff)*100:0.1f} +/- {np.std(i_diff):0.2f}\\t\\t {ttest_rel(ii,i,alternative='less').pvalue:0.3f}\")"
   ]
  },
  {
   "cell_type": "code",
   "execution_count": 31,
   "metadata": {
    "tags": []
   },
   "outputs": [
    {
     "name": "stdout",
     "output_type": "stream",
     "text": [
      "Exp: 98.3, 1.1\n",
      "Non Exp: 70.0, 4.5\n",
      "Ana: 70.8, 7.3\n",
      "Imp: 68.1, 5.5\n",
      "Exp: 98.3, 1.1\n",
      "Non Exp: 69.9, 4.5\n",
      "Ana: 70.8, 7.2\n",
      "Imp: 68.0, 5.4\n",
      "\n",
      "\n",
      "Semantics\n",
      "[NEXP DIFF] -0.0 +/- 0.00\t\t 0.181\n",
      "[AN DIFF] -0.0 +/- 0.00\t\t 0.329\n",
      "[IMP DIFF] -0.1 +/- 0.00\t\t 0.192\n"
     ]
    }
   ],
   "source": [
    "from scipy.stats import ttest_rel\n",
    "e,n,a,i = print_results(\"training/results2_semantics_global_span_w100_full//\")\n",
    "\n",
    "ee,nn,aa,ii = print_results(\"training/silver_results_semantics_span_w100_full////\")\n",
    "\n",
    "nn_diff=[i-j for i,j in zip(nn,n)]\n",
    "\n",
    "a_diff=[i-j for i,j in zip(aa,a)]\n",
    "i_diff = [i-j for i,j in zip(ii,i)]\n",
    "\n",
    "print(\"\\n\\nSemantics\")\n",
    "\n",
    "print(f\"[NEXP DIFF] {np.mean(nn_diff)*100:0.1f} +/- {np.std(nn_diff):0.2f}\\t\\t {ttest_rel(nn,n,alternative='less').pvalue:0.3f}\")\n",
    "print(f\"[AN DIFF] {np.mean(a_diff)*100:0.1f} +/- {np.std(a_diff):0.2f}\\t\\t {ttest_rel(aa,a,alternative='less').pvalue:0.3f}\")\n",
    "print(f\"[IMP DIFF] {np.mean(i_diff)*100:0.1f} +/- {np.std(i_diff):0.2f}\\t\\t {ttest_rel(ii,i,alternative='less').pvalue:0.3f}\")"
   ]
  },
  {
   "cell_type": "code",
   "execution_count": 32,
   "metadata": {
    "tags": []
   },
   "outputs": [
    {
     "name": "stdout",
     "output_type": "stream",
     "text": [
      "Exp: 98.6, 1.1\n",
      "Non Exp: 71.2, 4.3\n",
      "Ana: 71.7, 8.1\n",
      "Imp: 69.6, 5.4\n",
      "Exp: 98.7, 1.1\n",
      "Non Exp: 71.3, 4.3\n",
      "Ana: 71.8, 7.9\n",
      "Imp: 69.6, 5.5\n",
      "\n",
      "\n",
      "UAR_Scene\n",
      "[NEXP DIFF] 0.1 +/- 0.00\t\t 0.672\n",
      "[AN DIFF] 0.1 +/- 0.00\t\t 0.645\n",
      "[IMP DIFF] 0.1 +/- 0.00\t\t 0.622\n"
     ]
    }
   ],
   "source": [
    "from scipy.stats import ttest_rel\n",
    "e,n,a,i = print_results(\"training/results2_scene_drama_global_span_w100_full//\")\n",
    "\n",
    "ee,nn,aa,ii = print_results(\"training/silver_results_scene_drama_span_w100_full/////\")\n",
    "\n",
    "nn_diff=[i-j for i,j in zip(nn,n)]\n",
    "\n",
    "a_diff=[i-j for i,j in zip(aa,a)]\n",
    "i_diff = [i-j for i,j in zip(ii,i)]\n",
    "\n",
    "print(\"\\n\\nUAR_Scene\")\n",
    "\n",
    "print(f\"[NEXP DIFF] {np.mean(nn_diff)*100:0.1f} +/- {np.std(nn_diff):0.2f}\\t\\t {ttest_rel(nn,n,alternative='less').pvalue:0.3f}\")\n",
    "print(f\"[AN DIFF] {np.mean(a_diff)*100:0.1f} +/- {np.std(a_diff):0.2f}\\t\\t {ttest_rel(aa,a,alternative='less').pvalue:0.3f}\")\n",
    "print(f\"[IMP DIFF] {np.mean(i_diff)*100:0.1f} +/- {np.std(i_diff):0.2f}\\t\\t {ttest_rel(ii,i,alternative='less').pvalue:0.3f}\")"
   ]
  },
  {
   "cell_type": "markdown",
   "metadata": {},
   "source": [
    "## Table 5"
   ]
  },
  {
   "cell_type": "code",
   "execution_count": 71,
   "metadata": {
    "tags": []
   },
   "outputs": [],
   "source": [
    "import pandas as pd\n",
    "def print_results(path): \n",
    "\n",
    "    anaphorics = []\n",
    "    implicits = []\n",
    "    noexp = []\n",
    "    explicits = []\n",
    "    n_exp_per_novel = []\n",
    "    df = pd.read_csv(f\"{path}/test_preds_max.csv\")#, \"rb\") as f :\n",
    "    for novel in df[\"novel_id\"].unique() : \n",
    "        sub = df[df[\"novel_id\"] == novel]\n",
    "        quote_data = pd.read_csv(f\"data/test_pdnc_source/{novel}/quote_info.csv\")\n",
    "        sub = sub.merge(quote_data[[\"qID\", \"qType\"]], left_on = \"q_id\", right_on = \"qID\", how=\"left\")\n",
    "        an = sub[sub[\"qType\"] == \"Anaphoric\"] \n",
    "        novel_an = ((an[\"gold\"] == an[\"pred\"]).tolist())\n",
    "        imp = sub[sub[\"qType\"] == \"Implicit\"] \n",
    "        novel_imp = ((imp[\"gold\"] == imp[\"pred\"]).tolist())\n",
    "\n",
    "            # n_exp_per_novel.append()\n",
    "            \n",
    "        anaphorics.append(np.mean(novel_an))\n",
    "        implicits.append(np.mean(novel_imp))\n",
    "        noexp.append(np.mean(novel_an + novel_imp))\n",
    "        sub = df[df[\"is_explicit\"] == 1]\n",
    "        explicits.append((sub[\"gold\"] == sub[\"pred\"]).mean())\n",
    "\n",
    "    print(f\"Exp: {np.mean(explicits)*100:0.1f}, {np.std(explicits)*100:0.1f}\")\n",
    "    print(f\"Non Exp: {np.mean(noexp)*100:0.1f}, {np.std(noexp)*100:0.1f}\")\n",
    "    print(f\"Ana: {np.mean(anaphorics)*100:0.1f}, {np.std(anaphorics)*100:0.1f}\")\n",
    "    print(f\"Imp: {np.mean(implicits)*100:0.1f}, {np.std(implicits)*100:0.1f}\")\n",
    "    \n",
    "    return explicits, noexp, anaphorics, implicits\n",
    "\n",
    "# _ = print_results(\"/workspace/speaker-attribution-acl2023/training/results_drama_chapterwise_span_w100_full\")"
   ]
  },
  {
   "cell_type": "code",
   "execution_count": 72,
   "metadata": {
    "tags": []
   },
   "outputs": [
    {
     "name": "stdout",
     "output_type": "stream",
     "text": [
      "[Vanilla]\n",
      "Exp: 94.3, 0.0\n",
      "Non Exp: 69.6, 10.2\n",
      "Ana: 72.3, 10.9\n",
      "Imp: 67.6, 9.7\n"
     ]
    }
   ],
   "source": [
    "print(\"[Vanilla]\")\n",
    "e,n,a,i = print_results(\"training/test_results_vanilla_span_w100_full//\")"
   ]
  },
  {
   "cell_type": "code",
   "execution_count": 73,
   "metadata": {
    "tags": []
   },
   "outputs": [
    {
     "name": "stdout",
     "output_type": "stream",
     "text": [
      "[Semantics-G]\n",
      "Exp: 94.1, 0.0\n",
      "Non Exp: 69.3, 11.2\n",
      "Ana: 71.6, 11.8\n",
      "Imp: 68.0, 10.7\n"
     ]
    },
    {
     "data": {
      "text/plain": [
       "(0.6762206517786069, 0.8464361448817359, 0.3012661750132436)"
      ]
     },
     "execution_count": 73,
     "metadata": {},
     "output_type": "execute_result"
    }
   ],
   "source": [
    "print(\"[Semantics-G]\")\n",
    "ee,nn,aa,ii = print_results(\"training/test_results_semantics//\")\n",
    "from scipy.stats import ttest_rel\n",
    "ttest_rel(n,nn, alternative=\"less\").pvalue, ttest_rel(a,aa, alternative=\"less\").pvalue,  ttest_rel(i,ii, alternative=\"less\").pvalue"
   ]
  },
  {
   "cell_type": "code",
   "execution_count": 74,
   "metadata": {
    "tags": []
   },
   "outputs": [
    {
     "name": "stdout",
     "output_type": "stream",
     "text": [
      "[Semantics-G]\n",
      "Exp: 94.1, 0.0\n",
      "Non Exp: 69.3, 11.2\n",
      "Ana: 71.6, 11.8\n",
      "Imp: 68.0, 10.7\n"
     ]
    },
    {
     "data": {
      "text/plain": [
       "(0.6762206517786069, 0.30712771023652824, 0.3012661750132436)"
      ]
     },
     "execution_count": 74,
     "metadata": {},
     "output_type": "execute_result"
    }
   ],
   "source": [
    "print(\"[Semantics-G]\")\n",
    "ee,nn,aa,ii = print_results(\"training/test_results_semantics//\")\n",
    "from scipy.stats import ttest_rel\n",
    "ttest_rel(n,nn, alternative=\"less\").pvalue, ttest_rel(a,aa, alternative=\"two-sided\").pvalue,  ttest_rel(i,ii, alternative=\"less\").pvalue"
   ]
  },
  {
   "cell_type": "code",
   "execution_count": 77,
   "metadata": {
    "tags": []
   },
   "outputs": [
    {
     "name": "stdout",
     "output_type": "stream",
     "text": [
      "[UAR_Reddit-G]\n",
      "Exp: 96.7, 0.0\n",
      "Non Exp: 70.5, 10.8\n",
      "Ana: 72.4, 10.8\n",
      "Imp: 69.4, 10.5\n"
     ]
    },
    {
     "data": {
      "text/plain": [
       "(0.08532540352544277, 0.36879140063931015, 0.023064858808719033)"
      ]
     },
     "execution_count": 77,
     "metadata": {},
     "output_type": "execute_result"
    }
   ],
   "source": [
    "print(\"[UAR_Reddit-G]\")\n",
    "ee,nn,aa,ii = print_results(\"training/test_results_luar//\")\n",
    "from scipy.stats import ttest_rel\n",
    "ttest_rel(n,nn, alternative=\"less\").pvalue, ttest_rel(a,aa, alternative=\"less\").pvalue,  ttest_rel(i,ii, alternative=\"less\").pvalue"
   ]
  },
  {
   "cell_type": "code",
   "execution_count": 79,
   "metadata": {
    "tags": []
   },
   "outputs": [
    {
     "name": "stdout",
     "output_type": "stream",
     "text": [
      "[UAR_Play-G]\n",
      "Exp: 96.2, 0.0\n",
      "Non Exp: 71.1, 10.6\n",
      "Ana: 72.8, 10.4\n",
      "Imp: 70.1, 10.6\n"
     ]
    },
    {
     "data": {
      "text/plain": [
       "(0.007088374646741454, 0.09604285487077793, 0.007665944442273034)"
      ]
     },
     "execution_count": 79,
     "metadata": {},
     "output_type": "execute_result"
    }
   ],
   "source": [
    "print(\"[UAR_Play-G]\")\n",
    "ee,nn,aa,ii = print_results(\"training/test_results_drama///\")\n",
    "from scipy.stats import ttest_rel\n",
    "ttest_rel(n,nn, alternative=\"less\").pvalue, ttest_rel(a,aa, alternative=\"less\").pvalue,  ttest_rel(i,ii, alternative=\"less\").pvalue"
   ]
  },
  {
   "cell_type": "code",
   "execution_count": 81,
   "metadata": {
    "tags": []
   },
   "outputs": [
    {
     "name": "stdout",
     "output_type": "stream",
     "text": [
      "[UAR_Scene-G]\n",
      "Exp: 96.9, 0.0\n",
      "Non Exp: 71.2, 10.4\n",
      "Ana: 73.1, 10.0\n",
      "Imp: 70.0, 10.5\n"
     ]
    },
    {
     "data": {
      "text/plain": [
       "(0.018402956905392592, 0.1485741784426712, 0.012722153746125306)"
      ]
     },
     "execution_count": 81,
     "metadata": {},
     "output_type": "execute_result"
    }
   ],
   "source": [
    "print(\"[UAR_Scene-G]\")\n",
    "ee,nn,aa,ii = print_results(\"training/test_results_scene/\")\n",
    "from scipy.stats import ttest_rel\n",
    "ttest_rel(n,nn, alternative=\"less\").pvalue, ttest_rel(a,aa, alternative=\"less\").pvalue,  ttest_rel(i,ii, alternative=\"less\").pvalue"
   ]
  },
  {
   "cell_type": "code",
   "execution_count": null,
   "metadata": {},
   "outputs": [],
   "source": []
  },
  {
   "cell_type": "code",
   "execution_count": 82,
   "metadata": {
    "tags": []
   },
   "outputs": [
    {
     "name": "stdout",
     "output_type": "stream",
     "text": [
      "Note: you may need to restart the kernel to use updated packages.\n"
     ]
    }
   ],
   "source": [
    "pip freeze > requirements.txt"
   ]
  },
  {
   "cell_type": "code",
   "execution_count": null,
   "metadata": {},
   "outputs": [],
   "source": []
  },
  {
   "cell_type": "code",
   "execution_count": null,
   "metadata": {},
   "outputs": [],
   "source": []
  },
  {
   "cell_type": "code",
   "execution_count": null,
   "metadata": {},
   "outputs": [],
   "source": []
  }
 ],
 "metadata": {
  "kernelspec": {
   "display_name": "Python 3 (ipykernel)",
   "language": "python",
   "name": "python3"
  },
  "language_info": {
   "codemirror_mode": {
    "name": "ipython",
    "version": 3
   },
   "file_extension": ".py",
   "mimetype": "text/x-python",
   "name": "python",
   "nbconvert_exporter": "python",
   "pygments_lexer": "ipython3",
   "version": "3.9.16"
  }
 },
 "nbformat": 4,
 "nbformat_minor": 4
}
